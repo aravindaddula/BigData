{
 "cells": [
  {
   "cell_type": "code",
   "execution_count": null,
   "id": "c594abbc",
   "metadata": {},
   "outputs": [],
   "source": [
    "''' Build a tree data structure '''\n"
   ]
  }
 ],
 "metadata": {
  "language_info": {
   "name": "python"
  }
 },
 "nbformat": 4,
 "nbformat_minor": 5
}
