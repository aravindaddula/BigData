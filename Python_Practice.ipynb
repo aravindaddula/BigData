{
 "cells": [
  {
   "cell_type": "code",
   "execution_count": 3,
   "id": "15292153-2292-4178-831f-6263ec7ed319",
   "metadata": {},
   "outputs": [
    {
     "name": "stdout",
     "output_type": "stream",
     "text": [
      "<__main__.Stack object at 0x7fe5e4e602b0>\n"
     ]
    }
   ],
   "source": [
    "# Implement stack\n",
    "# Principle:LIFO\n",
    "class Stack:\n",
    "    def init(self):\n",
    "        self.size=5\n",
    "        self.lst=[]\n",
    "# Insertion\n",
    "# def push(self,elem):\n",
    "\n",
    "st=Stack()\n",
    "print(st)\n",
    "# deletion\n",
    "# stack overflow\n",
    "# stack underflow"
   ]
  },
  {
   "cell_type": "code",
   "execution_count": 1,
   "id": "d40c53c5-2c5d-430e-a9b4-25582f58ad1a",
   "metadata": {},
   "outputs": [
    {
     "name": "stdout",
     "output_type": "stream",
     "text": [
      "hello python from jupyter lab\n"
     ]
    }
   ],
   "source": [
    "print(\"hello python from jupyter lab\")"
   ]
  },
  {
   "cell_type": "code",
   "execution_count": 7,
   "id": "0f0c3646-ece2-4c14-9255-3c85f636d764",
   "metadata": {},
   "outputs": [
    {
     "name": "stdout",
     "output_type": "stream",
     "text": [
      "[2, 4, 6, 8]\n",
      "[1, 2, 3, 4]\n"
     ]
    }
   ],
   "source": [
    "lst=[1,2,3,4]\n",
    "mul=map(lambda x : x*2,lst)\n",
    "fil=filter(lambda x : x*2,lst)\n",
    "print(list(mul))\n",
    "print(list(fil))"
   ]
  },
  {
   "cell_type": "code",
   "execution_count": null,
   "id": "ebdb4941-a8fd-4344-8e5d-a1269cc154c8",
   "metadata": {},
   "outputs": [
    {
     "name": "stdout",
     "output_type": "stream",
     "text": [
      "[4, 7, 6, 3, 1]\n"
     ]
    }
   ],
   "source": [
    "# Reverse an array without using predefined function\n",
    "lst=[1,3,6,7,4]\n",
    "left=0\n",
    "right=len(lst)-1\n",
    "while(left<right):\n",
    "    lst[left],lst[right]=lst[right],lst[left]\n",
    "    left=left+1\n",
    "    right=right-1\n",
    "\n",
    "print(lst)"
   ]
  },
  {
   "cell_type": "code",
   "execution_count": 15,
   "id": "6a8fbcfa",
   "metadata": {},
   "outputs": [
    {
     "name": "stdout",
     "output_type": "stream",
     "text": [
      "skeegrofskeeG\n"
     ]
    }
   ],
   "source": [
    "# Reverse an array without using predefined function\n",
    "str = \"Geeksforgeeks\"\n",
    "# str=split(str1)\n",
    "# print(str)\n",
    "start=0\n",
    "end=len(str)-1\n",
    "reversed_str=\"\"\n",
    "while(end >= 0):\n",
    "    reversed_str = reversed_str + str[end]\n",
    "    end=end-1\n",
    "print(reversed_str)"
   ]
  },
  {
   "cell_type": "code",
   "execution_count": 5,
   "id": "42160d03-e5b4-4692-ad68-b2b4a347fc92",
   "metadata": {},
   "outputs": [
    {
     "name": "stdout",
     "output_type": "stream",
     "text": [
      "skeegrofskeeG\n"
     ]
    }
   ],
   "source": [
    "# Reverse a String\n",
    "s = \"Geeksforgeeks\"\n",
    "def reverse_str(s):\n",
    "    str=s[::-1]\n",
    "    return str\n",
    "print(reverse_str(\"Geeksforgeeks\"))"
   ]
  },
  {
   "cell_type": "code",
   "execution_count": 7,
   "id": "38675ccb-48f4-4841-8136-4afc5a7a9483",
   "metadata": {},
   "outputs": [
    {
     "name": "stdout",
     "output_type": "stream",
     "text": [
      "True\n",
      "False\n"
     ]
    }
   ],
   "source": [
    "a=[5,6,7]\n",
    "b=[5,6,7]\n",
    "print(a==b)\n",
    "print(a is b)"
   ]
  },
  {
   "cell_type": "code",
   "execution_count": 10,
   "id": "98126863-3994-4529-83b0-5e2f93799d82",
   "metadata": {},
   "outputs": [
    {
     "name": "stdout",
     "output_type": "stream",
     "text": [
      "[1, 2, 3, 6, 7, 9]\n"
     ]
    }
   ],
   "source": [
    "# Remove duplicates in list\n",
    "list1 = [3,6,7,9,2,3,7,1]\n",
    "lst=list(set(list1))\n",
    "print(lst)"
   ]
  },
  {
   "cell_type": "code",
   "execution_count": null,
   "id": "ab495820-91c4-4998-8b5a-f7c879e7ed65",
   "metadata": {},
   "outputs": [],
   "source": [
    "\"\"\"\n",
    "17. Given a dictionary consisting of many roots as well as a sentence, write a function “replace words” to stem all\n",
    "the words in the sentence with the root forming it.\n",
    "Output: \"the cat was a rat by the bat\"\n",
    "\"\"\"\n",
    "roots = [\"cat\", \"bat\", \"rat\"]\n",
    "sentence = \"the cattle was rattled by the battery\"\n"
   ]
  },
  {
   "cell_type": "code",
   "execution_count": null,
   "id": "03f00f60-e0cc-4d5c-a1ae-56f71cf7ec6d",
   "metadata": {},
   "outputs": [],
   "source": [
    "# Dictionary comprehansion\n"
   ]
  },
  {
   "cell_type": "code",
   "execution_count": 22,
   "id": "10dcbb7d-4acf-4e2c-9c95-808803c4eb80",
   "metadata": {},
   "outputs": [
    {
     "name": "stdout",
     "output_type": "stream",
     "text": [
      "{'iron': 0, 'man': 0, 'captain': 0, 'america': 0}\n"
     ]
    }
   ],
   "source": [
    "\"\"\"\n",
    "find the word count in and display it in a descending order of count.\n",
    "Expected Output:\n",
    "man - 2\n",
    "Iron-1\n",
    "captain - 1\n",
    "america - 1\n",
    "\"\"\"\n",
    "lst=[\"iron\",\"man\",\"captain\",\"america\",\"man\"]\n",
    "word_counts={}\n",
    "for word in lst:\n",
    "    word_counts[word]=word_counts.get(word,0)\n",
    "    # print(type(word_counts.get(word,0)+1))\n",
    "\n",
    "# list(word_counts).sort(key=lambda k:k.itemgetter(1) )\n",
    "\n",
    "print(word_counts)"
   ]
  },
  {
   "cell_type": "code",
   "execution_count": 11,
   "id": "bce8daa1-c7f4-4a83-8f61-08dc84964922",
   "metadata": {},
   "outputs": [
    {
     "name": "stdout",
     "output_type": "stream",
     "text": [
      "{'a': 1, 'b': 2, 'c': 3, 'd': 4}\n",
      "88\n",
      "{'a': 1, 'b': 2, 'c': 3, 'd': 4}\n"
     ]
    }
   ],
   "source": [
    "# Assign values to every key in the below list\n",
    "alphabets=['a','b','c','d']\n",
    "alpha_dict={}\n",
    "alpha_dict2={'a': 1, 'b': 2, 'c': 3, 'd': 4}\n",
    "\n",
    "num=1\n",
    "for char in alphabets:\n",
    "    alpha_dict[char]=num\n",
    "    num = num+1\n",
    "print(alpha_dict)\n",
    "print(alpha_dict2.get('f',88))\n",
    "print(alpha_dict2)"
   ]
  },
  {
   "cell_type": "code",
   "execution_count": 11,
   "id": "a2414fbb-3b51-45c4-9bcb-702caba478e7",
   "metadata": {},
   "outputs": [
    {
     "name": "stdout",
     "output_type": "stream",
     "text": [
      "Write operation completed\n"
     ]
    }
   ],
   "source": [
    "\"\"\"\n",
    "How xmltodict works: Child tags can be converted as keys and as with their values.\n",
    "All these child tags and their values swill be nested as key:value pairs under parent tags.\n",
    "\n",
    "Task XML To JSON Conversion\n",
    "\"\"\"\n",
    "import xmltodict,json\n",
    "\n",
    "with open(\"Files/books.xml\") as xml_file:\n",
    "    \n",
    "    # Convert the raw xml_file object into python dictionary\n",
    "    data_dict=xmltodict.parse(xml_file.read())\n",
    "    \n",
    "    # json.dumps method serializes the dictionary variable into json format\n",
    "    json_file=json.dumps(data_dict)\n",
    "\n",
    "    # write the serialized json_file into disk\n",
    "    with open(\"Files/converted_books.json\",\"w\") as json_obj:\n",
    "        json_obj.write(json_file)\n",
    "        print(\"Write operation completed\")\n"
   ]
  },
  {
   "cell_type": "code",
   "execution_count": 9,
   "id": "9bf91d34-a426-45de-b95a-dd9c64329244",
   "metadata": {},
   "outputs": [
    {
     "name": "stdout",
     "output_type": "stream",
     "text": [
      "Write Success\n"
     ]
    }
   ],
   "source": [
    "\"\"\"\n",
    "Task: Convert JSON File to XML File.\n",
    "\n",
    "\"\"\"\n",
    "import xmltodict,json\n",
    "with open(\"Files/converted_books.json\") as json_obj:\n",
    "    # Deserialze the serialized JSON File by converting it into python dictionary\n",
    "    json_dict = json.loads(json_obj.read())\n",
    "\n",
    "    # Convert JSON to XML File\n",
    "    xml_file = xmltodict.unparse(json_dict)\n",
    "\n",
    "    with open(\"Files/xml_converted.xml\",\"w\") as xml_obj:\n",
    "        xml_obj.write(xml_file)\n",
    "        print(\"Write Success\")"
   ]
  },
  {
   "cell_type": "code",
   "execution_count": null,
   "id": "bc2d31b6-6562-49c5-9445-e26d27e973d6",
   "metadata": {},
   "outputs": [
    {
     "name": "stdout",
     "output_type": "stream",
     "text": [
      "{'a': 10, 'b': 50, 'c': 40}\n"
     ]
    }
   ],
   "source": [
    "'''Asked in NTTData L1 round\n",
    "find sum of all the distinct keys\n",
    "OUTPUT:\n",
    "    {\"a\": 10, \"b\":50,\"c\":40}\n",
    "'''\n",
    "dict1 = {\"a\": 10, \"b\": 20}\n",
    "dict2 = {\"b\": 30, \"c\": 40}\n",
    "sum_dict={}\n",
    "# for key,val in dict1.items():\n",
    "#     print(key,val)\n",
    "union_keys=set(dict1) | set(dict2)\n",
    "for key in union_keys:\n",
    "    sum_dict[key]=dict1.get(key,0) + dict2.get(key,0)\n",
    "    # print(unionDict)\n",
    "print(sum_dict)"
   ]
  },
  {
   "cell_type": "code",
   "execution_count": 8,
   "id": "146b6f30",
   "metadata": {},
   "outputs": [
    {
     "name": "stdout",
     "output_type": "stream",
     "text": [
      "list2 = [123]\n",
      "list3 = ['a', 'b']\n",
      "list4 = ['a', 'b']\n"
     ]
    }
   ],
   "source": [
    "# Asked in deloitte\n",
    "def extendList(val, list=[]):\n",
    "    list.append(val)\n",
    "    return list\n",
    " \n",
    "# list1 = extendList(10)\n",
    "list2 = extendList(123,[])\n",
    "list3 = extendList('a')\n",
    "list4=extendList('b')\n",
    "\n",
    "# print(\"list1 = %s\" % list1)\n",
    "print(\"list2 = %s\" % list2)\n",
    "print(\"list3 = %s\" % list3)\n",
    "print(\"list4 = %s\" % list4)"
   ]
  },
  {
   "cell_type": "code",
   "execution_count": 9,
   "id": "9ae34efc",
   "metadata": {},
   "outputs": [
    {
     "name": "stdout",
     "output_type": "stream",
     "text": [
      "[6, 6, 6, 6]\n",
      "[6, 6, 6, 6]\n"
     ]
    }
   ],
   "source": [
    "# Asked in deloitte\n",
    "\n",
    "def multipliers():\n",
    "  return [lambda x : i * x for i in range(4)]\n",
    "\n",
    "print([m(2) for m in multipliers()])\n",
    "\n",
    "'''The above print can also be written as'''\n",
    "ressults=[]\n",
    "for m in multipliers():\n",
    "  ressults.append(m(2))\n",
    "print(ressults)\n",
    "\n"
   ]
  },
  {
   "cell_type": "code",
   "execution_count": 39,
   "id": "c47f9879",
   "metadata": {},
   "outputs": [
    {
     "name": "stdout",
     "output_type": "stream",
     "text": [
      "{'iron': 1, 'man': 2, 'captain': 1, 'america': 1}\n"
     ]
    }
   ],
   "source": [
    "'''\n",
    "lst=[\"iron\",\"man\",\"captain\",\"america\",\"man\"]\n",
    "find the word count in and display it in a descending order of count.\n",
    "Expected Output:\n",
    "man - 2\n",
    "Iron-1\n",
    "captain - 1\n",
    "america - 1\n",
    "'''\n",
    "\n",
    "words={}\n",
    "lst=[\"iron\",\"man\",\"captain\",\"america\",\"man\"]\n",
    "for word in lst:\n",
    "    word_key = word.lower()\n",
    "    # words[word_key] = words.get(word_key,0) + 1\n",
    "    if(word_key in words):\n",
    "        words[word_key] = words[word_key] + 1\n",
    "    else:\n",
    "        words[word_key] = 1\n",
    "    # print(word)\n",
    "\n",
    "print(words)"
   ]
  },
  {
   "cell_type": "code",
   "execution_count": 22,
   "id": "67054642",
   "metadata": {},
   "outputs": [
    {
     "name": "stdout",
     "output_type": "stream",
     "text": [
      "possibly found at 3 th index\n"
     ]
    }
   ],
   "source": [
    "''''Tavent Question\n",
    "4.Given a sorted array of distinct integers and a target value, return the index if the target is found. \n",
    "If not, return the index where it would be if it were inserted in order.\n",
    "'''\n",
    "# print(f'target found at {i} the location')\n",
    "\n",
    "def find_possible_idx(tgt):\n",
    "    left=0\n",
    "    right=len(arr)\n",
    "    # if(tgt not in arr):\n",
    "    #         return -1\n",
    "    while (left <= right ):\n",
    "        mid= (left+right) //2\n",
    "        \n",
    "        if(arr[mid] == tgt):\n",
    "            # print(f'target would have been at {i} the location')\n",
    "            return f'found at the index {mid}'\n",
    "        elif(tgt > arr[mid]):\n",
    "            left=mid+1\n",
    "        elif(tgt < arr[mid]):\n",
    "            right = mid - 1\n",
    "    return f'possibly found at {mid+1} th index'\n",
    "\n",
    "arr = [1,3,15,23,44,47,66]\n",
    "\n",
    "num=16\n",
    "idx = find_possible_idx(num)\n",
    "print(idx)"
   ]
  },
  {
   "cell_type": "code",
   "execution_count": 34,
   "id": "7b2b7e29",
   "metadata": {},
   "outputs": [
    {
     "name": "stdout",
     "output_type": "stream",
     "text": [
      "[53, 59, 61, 67, 71, 73, 79, 83, 89, 97]\n"
     ]
    }
   ],
   "source": [
    "'''\n",
    "    print prime numbers in a range\n",
    "'''\n",
    "import builtins\n",
    "range = builtins.range  # Only needed if you previously overwrote it\n",
    "primes=[]\n",
    "for num in range(50,100):\n",
    "    is_prime = True\n",
    "    for divider in range(2,int(num ** 0.5)+1):\n",
    "        if(num % divider == 0):\n",
    "            is_prime = False\n",
    "            break\n",
    "\n",
    "    if(is_prime):\n",
    "        primes.append(num)\n",
    "    #     print(f\"{num} is a prime Number\")\n",
    "    # else:\n",
    "    #     print(f\"{num} is not a prime Number\")\n",
    "\n",
    "print(primes)"
   ]
  },
  {
   "cell_type": "code",
   "execution_count": 46,
   "id": "e0eeec77",
   "metadata": {},
   "outputs": [
    {
     "name": "stdout",
     "output_type": "stream",
     "text": [
      "{1: 2, 2: 3, 3: 2, 4: 2, 5: 2}\n"
     ]
    }
   ],
   "source": [
    "'''\n",
    "🔖 Write a program to find the number of occurrences of elements from list.\n",
    "l = [1, 1, 2, 2, 2, 3, 3, 4, 4, 5, 5]\n",
    "O/P : 3 has occured 2 times\n",
    "'''\n",
    "\n",
    "lst = [1, 1, 2, 2, 2, 3, 3, 4, 4, 5, 5]\n",
    "occr_lst = {}\n",
    "for num in lst:\n",
    "    occr_lst[num] = occr_lst.get(num,0) + 1\n",
    "print(occr_lst)"
   ]
  },
  {
   "cell_type": "code",
   "execution_count": 49,
   "id": "76dff36e",
   "metadata": {},
   "outputs": [
    {
     "name": "stdout",
     "output_type": "stream",
     "text": [
      "7\n"
     ]
    }
   ],
   "source": [
    "# Write a python code to accept a string and count the number of vowels and consonants.\n",
    "\n",
    "def conut_alphabets(str):\n",
    "    vowel_cnt=0\n",
    "    consons = 0\n",
    "    vowels = ['a','e','i','o','u']\n",
    "    for char in str:\n",
    "        if(char.lower() in vowels ):\n",
    "            vowel_cnt = vowel_cnt +1\n",
    "        else:\n",
    "            consons = consons + 1\n",
    "    return {\"vowels\":vowel_cnt,\"consons\":consons}\n",
    "\n",
    "\n",
    "alphs=conut_alphabets('AravindReddyAddula')\n",
    "print(alphs[\"vowels\"])"
   ]
  },
  {
   "cell_type": "code",
   "execution_count": null,
   "id": "675f62f7",
   "metadata": {},
   "outputs": [],
   "source": [
    "# Find the Missing Number\n",
    "#  Given an array of n distinct numbers taken from 0, 1, 2, ..., n, find the missing number.\n"
   ]
  },
  {
   "cell_type": "code",
   "execution_count": null,
   "id": "0fc4234c",
   "metadata": {},
   "outputs": [],
   "source": [
    "\"\"\" Given a sorted array of distinct integers and a target value, return the index if the target is found. \n",
    "If not, return the index where it would be if it were inserted in order.\n",
    "\n",
    "Example 2:\n",
    "Input: nums = [1,3,5,6], target = 2 , Output: 1\n",
    "Example 3:\n",
    "Input: nums = [1,3,5,6], target = 7 , Output: 4\n",
    "\"\"\"\n",
    "\n"
   ]
  },
  {
   "cell_type": "code",
   "execution_count": null,
   "id": "b7e0c31c",
   "metadata": {},
   "outputs": [
    {
     "name": "stdout",
     "output_type": "stream",
     "text": [
      " the two indices are [1, 0]\n"
     ]
    }
   ],
   "source": [
    "'''\n",
    "Given an array of numbers and a target sum, return the indices of the two numbers that add up to the target.\n",
    "Input: nums = [2, 7, 11, 15], target = 9  \n",
    "Output: [0, 1]\n",
    "Explanation: nums[0] + nums[1] == 9\n",
    "'''\n",
    "\n",
    "def two_sum(nums,tgt):\n",
    "    complements={}\n",
    "    for idx,num in enumerate(nums):\n",
    "        complement = abs(tgt-num)\n",
    "        if(complement in complements):\n",
    "            return [idx,complements[complement]]\n",
    "        complements[num]=idx\n",
    "    return []\n",
    "nums = [2, 7, 11, 15]\n",
    "target = 9\n",
    "# two_sum(nums,target)\n",
    "print(f' the two indices are {two_sum(nums,target)}')"
   ]
  },
  {
   "cell_type": "code",
   "execution_count": 11,
   "id": "cb48e445",
   "metadata": {},
   "outputs": [
    {
     "name": "stdout",
     "output_type": "stream",
     "text": [
      "much.very.program.this.like.i\n"
     ]
    }
   ],
   "source": [
    "# Asked in deloitte round 1\n",
    "\n",
    "S = \"i.like.this.program.very.much\"\n",
    "\n",
    "splited_arr = S.split('.')[::-1]\n",
    "# splited_arr.reverse()\n",
    "newarr= '.'.join(splited_arr)\n",
    "print(newarr)"
   ]
  },
  {
   "cell_type": "code",
   "execution_count": 19,
   "id": "fd2b5b4f",
   "metadata": {},
   "outputs": [
    {
     "name": "stdout",
     "output_type": "stream",
     "text": [
      "[('b', 1), ('c', 2), ('a', 3)]\n"
     ]
    }
   ],
   "source": [
    "# Sort the list based on the second key\n",
    "\n",
    "data = [('a', 3), ('b', 1),('c', 2),]\n",
    "\n",
    "sort_key = lambda k:k[1]\n",
    "data.sort(key=sort_key)\n",
    "\n",
    "print(data)\n",
    "\n",
    "# tst = (1,2,3)\n",
    "# print(tst[1])"
   ]
  },
  {
   "cell_type": "code",
   "execution_count": 22,
   "id": "1ed2ea40",
   "metadata": {},
   "outputs": [
    {
     "name": "stdout",
     "output_type": "stream",
     "text": [
      "2\n"
     ]
    }
   ],
   "source": [
    "# Find the number of A\n",
    "\n",
    "str = 'aravind'\n",
    "replaced = str.replace('a','')\n",
    "print(len(str) - len(replaced))\n"
   ]
  },
  {
   "cell_type": "code",
   "execution_count": null,
   "id": "47cb6700",
   "metadata": {},
   "outputs": [
    {
     "name": "stdout",
     "output_type": "stream",
     "text": [
      "+---+\n",
      "| id|\n",
      "+---+\n",
      "|  0|\n",
      "|  1|\n",
      "|  2|\n",
      "|  3|\n",
      "|  4|\n",
      "+---+\n",
      "\n"
     ]
    }
   ],
   "source": []
  }
 ],
 "metadata": {
  "kernelspec": {
   "display_name": "Python 3",
   "language": "python",
   "name": "python3"
  },
  "language_info": {
   "codemirror_mode": {
    "name": "ipython",
    "version": 3
   },
   "file_extension": ".py",
   "mimetype": "text/x-python",
   "name": "python",
   "nbconvert_exporter": "python",
   "pygments_lexer": "ipython3",
   "version": "3.12.10"
  }
 },
 "nbformat": 4,
 "nbformat_minor": 5
}
