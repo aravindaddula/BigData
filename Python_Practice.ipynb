{
 "cells": [
  {
   "cell_type": "code",
   "execution_count": 3,
   "id": "15292153-2292-4178-831f-6263ec7ed319",
   "metadata": {},
   "outputs": [
    {
     "name": "stdout",
     "output_type": "stream",
     "text": [
      "<__main__.Stack object at 0x7fe5e4e602b0>\n"
     ]
    }
   ],
   "source": [
    "# Implement stack\n",
    "# Principle:LIFO\n",
    "class Stack:\n",
    "    def init(self):\n",
    "        self.size=5\n",
    "        self.lst=[]\n",
    "# Insertion\n",
    "# def push(self,elem):\n",
    "\n",
    "st=Stack()\n",
    "print(st)\n",
    "# deletion\n",
    "# stack overflow\n",
    "# stack underflow"
   ]
  },
  {
   "cell_type": "code",
   "execution_count": 1,
   "id": "d40c53c5-2c5d-430e-a9b4-25582f58ad1a",
   "metadata": {},
   "outputs": [
    {
     "name": "stdout",
     "output_type": "stream",
     "text": [
      "hello python from jupyter lab\n"
     ]
    }
   ],
   "source": [
    "print(\"hello python from jupyter lab\")"
   ]
  },
  {
   "cell_type": "code",
   "execution_count": 7,
   "id": "0f0c3646-ece2-4c14-9255-3c85f636d764",
   "metadata": {},
   "outputs": [
    {
     "name": "stdout",
     "output_type": "stream",
     "text": [
      "[2, 4, 6, 8]\n",
      "[1, 2, 3, 4]\n"
     ]
    }
   ],
   "source": [
    "lst=[1,2,3,4]\n",
    "mul=map(lambda x : x*2,lst)\n",
    "fil=filter(lambda x : x*2,lst)\n",
    "print(list(mul))\n",
    "print(list(fil))"
   ]
  },
  {
   "cell_type": "code",
   "execution_count": 23,
   "id": "e0cba0a8-df36-49cd-ac54-2d5ae07316d7",
   "metadata": {},
   "outputs": [
    {
     "name": "stdout",
     "output_type": "stream",
     "text": [
      "8 would have been at 4 index\n"
     ]
    }
   ],
   "source": [
    "\"\"\" Given a sorted array of distinct integers and a target value, return the index if the target is found. \n",
    "If not, return the index where it would be if it were inserted in order.\n",
    "\n",
    "Example 2:\n",
    "Input: nums = [1,3,5,6], target = 2 , Output: 1\n",
    "Example 3:\n",
    "Input: nums = [1,3,5,6], target = 7 , Output: 4\n",
    "\"\"\"\n",
    "\n",
    "def find_idx(nums,tgt):\n",
    "    if(tgt>nums[len(nums)-1]):\n",
    "        return f'{tgt} would have been at {len(nums)} index'   \n",
    "    left=0\n",
    "    right=len(nums)\n",
    "    while(left<right):\n",
    "        mid=(left+right)//2\n",
    "        # print(mid)\n",
    "        if(nums[mid]==tgt):\n",
    "            return f'{tgt} found at {mid} index'\n",
    "            \n",
    "        elif(tgt>nums[mid]):\n",
    "            left=mid+1\n",
    "        elif(tgt<nums[mid]):\n",
    "            right=mid\n",
    "            \n",
    "    return f'{tgt} would have been at {right} index'\n",
    "loc=find_idx([1,3,5,6],8)\n",
    "print(loc)\n",
    "            "
   ]
  },
  {
   "cell_type": "code",
   "execution_count": 3,
   "id": "ebdb4941-a8fd-4344-8e5d-a1269cc154c8",
   "metadata": {},
   "outputs": [
    {
     "name": "stdout",
     "output_type": "stream",
     "text": [
      "[4, 7, 6, 3, 1]\n"
     ]
    }
   ],
   "source": [
    "# Reverse an array\n",
    "lst=[1,3,6,7,4]\n",
    "left=0\n",
    "right=len(lst)-1\n",
    "while(left<right):\n",
    "    lst[left],lst[right]=lst[right],lst[left]\n",
    "    left=left+1\n",
    "    right=right-1\n",
    "\n",
    "print(lst)"
   ]
  },
  {
   "cell_type": "code",
   "execution_count": 5,
   "id": "42160d03-e5b4-4692-ad68-b2b4a347fc92",
   "metadata": {},
   "outputs": [
    {
     "name": "stdout",
     "output_type": "stream",
     "text": [
      "skeegrofskeeG\n"
     ]
    }
   ],
   "source": [
    "# Reverse a String\n",
    "s = \"Geeksforgeeks\"\n",
    "def reverse_str(s):\n",
    "    str=s[::-1]\n",
    "    return str\n",
    "print(reverse_str(\"Geeksforgeeks\"))"
   ]
  },
  {
   "cell_type": "code",
   "execution_count": 7,
   "id": "38675ccb-48f4-4841-8136-4afc5a7a9483",
   "metadata": {},
   "outputs": [
    {
     "name": "stdout",
     "output_type": "stream",
     "text": [
      "True\n",
      "False\n"
     ]
    }
   ],
   "source": [
    "a=[5,6,7]\n",
    "b=[5,6,7]\n",
    "print(a==b)\n",
    "print(a is b)"
   ]
  },
  {
   "cell_type": "code",
   "execution_count": 10,
   "id": "98126863-3994-4529-83b0-5e2f93799d82",
   "metadata": {},
   "outputs": [
    {
     "name": "stdout",
     "output_type": "stream",
     "text": [
      "[1, 2, 3, 6, 7, 9]\n"
     ]
    }
   ],
   "source": [
    "# Remove duplicates in list\n",
    "list1 = [3,6,7,9,2,3,7,1]\n",
    "lst=list(set(list1))\n",
    "print(lst)"
   ]
  },
  {
   "cell_type": "code",
   "execution_count": null,
   "id": "ab495820-91c4-4998-8b5a-f7c879e7ed65",
   "metadata": {},
   "outputs": [],
   "source": [
    "\"\"\"\n",
    "17. Given a dictionary consisting of many roots as well as a sentence, write a function “replace words” to stem all\n",
    "the words in the sentence with the root forming it.\n",
    "Output: \"the cat was a rat by the bat\"\n",
    "\"\"\"\n",
    "roots = [\"cat\", \"bat\", \"rat\"]\n",
    "sentence = \"the cattle was rattled by the battery\"\n"
   ]
  },
  {
   "cell_type": "code",
   "execution_count": null,
   "id": "03f00f60-e0cc-4d5c-a1ae-56f71cf7ec6d",
   "metadata": {},
   "outputs": [],
   "source": [
    "# Dictionary comprehansion\n"
   ]
  },
  {
   "cell_type": "code",
   "execution_count": 22,
   "id": "10dcbb7d-4acf-4e2c-9c95-808803c4eb80",
   "metadata": {},
   "outputs": [
    {
     "name": "stdout",
     "output_type": "stream",
     "text": [
      "{'iron': 0, 'man': 0, 'captain': 0, 'america': 0}\n"
     ]
    }
   ],
   "source": [
    "\"\"\"\n",
    "find the word count in and display it in a descending order of count.\n",
    "Expected Output:\n",
    "man - 2\n",
    "Iron-1\n",
    "captain - 1\n",
    "america - 1\n",
    "\"\"\"\n",
    "lst=[\"iron\",\"man\",\"captain\",\"america\",\"man\"]\n",
    "word_counts={}\n",
    "for word in lst:\n",
    "    word_counts[word]=word_counts.get(word,0)\n",
    "    # print(type(word_counts.get(word,0)+1))\n",
    "\n",
    "# list(word_counts).sort(key=lambda k:k.itemgetter(1) )\n",
    "\n",
    "print(word_counts)"
   ]
  },
  {
   "cell_type": "code",
   "execution_count": 11,
   "id": "bce8daa1-c7f4-4a83-8f61-08dc84964922",
   "metadata": {},
   "outputs": [
    {
     "name": "stdout",
     "output_type": "stream",
     "text": [
      "{'a': 1, 'b': 2, 'c': 3, 'd': 4}\n",
      "88\n",
      "{'a': 1, 'b': 2, 'c': 3, 'd': 4}\n"
     ]
    }
   ],
   "source": [
    "# Assign values to every key in the below list\n",
    "alphabets=['a','b','c','d']\n",
    "alpha_dict={}\n",
    "alpha_dict2={'a': 1, 'b': 2, 'c': 3, 'd': 4}\n",
    "\n",
    "num=1\n",
    "for char in alphabets:\n",
    "    alpha_dict[char]=num\n",
    "    num = num+1\n",
    "print(alpha_dict)\n",
    "print(alpha_dict2.get('f',88))\n",
    "print(alpha_dict2)"
   ]
  },
  {
   "cell_type": "code",
   "execution_count": 11,
   "id": "a2414fbb-3b51-45c4-9bcb-702caba478e7",
   "metadata": {},
   "outputs": [
    {
     "name": "stdout",
     "output_type": "stream",
     "text": [
      "Write operation completed\n"
     ]
    }
   ],
   "source": [
    "\"\"\"\n",
    "How xmltodict works: Child tags can be converted as keys and as with their values.\n",
    "All these child tags and their values swill be nested as key:value pairs under parent tags.\n",
    "\n",
    "Task XML To JSON Conversion\n",
    "\"\"\"\n",
    "import xmltodict,json\n",
    "\n",
    "with open(\"Files/books.xml\") as xml_file:\n",
    "    \n",
    "    # Convert the raw xml_file object into python dictionary\n",
    "    data_dict=xmltodict.parse(xml_file.read())\n",
    "    \n",
    "    # json.dumps method serializes the dictionary variable into json format\n",
    "    json_file=json.dumps(data_dict)\n",
    "\n",
    "    # write the serialized json_file into disk\n",
    "    with open(\"Files/converted_books.json\",\"w\") as json_obj:\n",
    "        json_obj.write(json_file)\n",
    "        print(\"Write operation completed\")\n"
   ]
  },
  {
   "cell_type": "code",
   "execution_count": 9,
   "id": "9bf91d34-a426-45de-b95a-dd9c64329244",
   "metadata": {},
   "outputs": [
    {
     "name": "stdout",
     "output_type": "stream",
     "text": [
      "Write Success\n"
     ]
    }
   ],
   "source": [
    "\"\"\"\n",
    "Task: Convert JSON File to XML File.\n",
    "\n",
    "\"\"\"\n",
    "import xmltodict,json\n",
    "with open(\"Files/converted_books.json\") as json_obj:\n",
    "    # Deserialze the serialized JSON File by converting it into python dictionary\n",
    "    json_dict = json.loads(json_obj.read())\n",
    "\n",
    "    # Convert JSON to XML File\n",
    "    xml_file = xmltodict.unparse(json_dict)\n",
    "\n",
    "    with open(\"Files/xml_converted.xml\",\"w\") as xml_obj:\n",
    "        xml_obj.write(xml_file)\n",
    "        print(\"Write Success\")"
   ]
  },
  {
   "cell_type": "code",
   "execution_count": 9,
   "id": "bc2d31b6-6562-49c5-9445-e26d27e973d6",
   "metadata": {},
   "outputs": [
    {
     "name": "stdout",
     "output_type": "stream",
     "text": [
      "{'c': 40, 'b': 50, 'a': 10}\n"
     ]
    }
   ],
   "source": [
    "'''Asked in NTTData L1 round\n",
    "OUTPUT: \n",
    "    {\"a\": 10, \"b\": 50, \"c\": 40}\n",
    "'''\n",
    "dict1 = {\"a\": 10, \"b\": 20}\n",
    "dict2 = {\"b\": 30, \"c\": 40}\n",
    "sum_dict={}\n",
    "for key in set(dict1) | set(dict2):\n",
    "    sum_dict[key] = dict1.get(key,0) + dict2.get(key,0)\n",
    "print(sum_dict)"
   ]
  }
 ],
 "metadata": {
  "kernelspec": {
   "display_name": "Python 3 (ipykernel)",
   "language": "python",
   "name": "python3"
  },
  "language_info": {
   "codemirror_mode": {
    "name": "ipython",
    "version": 3
   },
   "file_extension": ".py",
   "mimetype": "text/x-python",
   "name": "python",
   "nbconvert_exporter": "python",
   "pygments_lexer": "ipython3",
   "version": "3.12.9"
  }
 },
 "nbformat": 4,
 "nbformat_minor": 5
}
