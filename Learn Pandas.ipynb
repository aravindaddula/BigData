{
 "cells": [
  {
   "cell_type": "code",
   "execution_count": 15,
   "id": "40cd167a-40af-4281-8ef8-49031103b3a4",
   "metadata": {},
   "outputs": [
    {
     "name": "stdout",
     "output_type": "stream",
     "text": [
      "    cars  passings\n",
      "0    BMW         3\n",
      "1  Volvo         7\n",
      "2   Ford         2\n",
      "cars        BMW\n",
      "passings      3\n",
      "Name: 0, dtype: object\n"
     ]
    }
   ],
   "source": [
    "# Task : Display table from JSON Object\n",
    "import pandas as pd\n",
    "mydataset = {\n",
    "  'cars': [\"BMW\", \"Volvo\", \"Ford\"],\n",
    "  'passings': [3, 7, 2]\n",
    "}\n",
    "result_set=pd.DataFrame(mydataset)\n",
    "# result_set=pd.Series(mydataset)\n",
    "print(result_set)\n",
    "print(result_set.loc[0])"
   ]
  },
  {
   "cell_type": "code",
   "execution_count": 6,
   "id": "2574f341-1bba-49fe-9207-aabc482b9df2",
   "metadata": {},
   "outputs": [
    {
     "name": "stdout",
     "output_type": "stream",
     "text": [
      "0    1\n",
      "1    7\n",
      "2    2\n",
      "dtype: int64\n"
     ]
    }
   ],
   "source": [
    "# Series\n",
    "\n",
    "a = [1, 7, 2]\n",
    "result=pd.Series(a)\n",
    "print(result)"
   ]
  },
  {
   "cell_type": "code",
   "execution_count": 20,
   "id": "f85739c4-dd4e-4532-aa01-85de170ba3de",
   "metadata": {},
   "outputs": [
    {
     "name": "stdout",
     "output_type": "stream",
     "text": [
      "       cars  passings\n",
      "day1    BMW         3\n",
      "day2  Volvo         7\n",
      "day3   Ford         2\n",
      "\n",
      " cars        BMW\n",
      "passings      3\n",
      "Name: day1, dtype: object\n"
     ]
    }
   ],
   "source": [
    "# Create indexes for DataFrame\n",
    "import pandas as pd\n",
    "mydataset = {\n",
    "  'cars': [\"BMW\", \"Volvo\", \"Ford\"],\n",
    "  'passings': [3, 7, 2]\n",
    "}\n",
    "indexes=[\"day1\",\"day2\",\"day3\"]\n",
    "result_set=pd.DataFrame(mydataset,index=indexes)\n",
    "print(result_set)\n",
    "print(f'\\n {result_set.loc[\"day1\"]}')"
   ]
  },
  {
   "cell_type": "code",
   "execution_count": 25,
   "id": "3348b66b-6959-4393-874a-975a91e1c3bf",
   "metadata": {},
   "outputs": [
    {
     "name": "stdout",
     "output_type": "stream",
     "text": [
      "Duration     60.0\n",
      "Pulse       110.0\n",
      "Maxpulse    130.0\n",
      "Calories    409.1\n",
      "Name: 0, dtype: float64\n",
      "60\n"
     ]
    }
   ],
   "source": [
    "# Read Data from csv file into dataframe\n",
    "df=pd.read_csv(\"Files/data.csv\")\n",
    "# print(df.to_string())\n",
    "print(df.loc[0])\n",
    "print(pd.options.display.max_rows)"
   ]
  },
  {
   "cell_type": "code",
   "execution_count": 30,
   "id": "004456cb-6c7a-4f46-a896-1b742ba32099",
   "metadata": {},
   "outputs": [
    {
     "name": "stdout",
     "output_type": "stream",
     "text": [
      "     Duration  Pulse  Maxpulse  Calories\n",
      "0          60    110       130     409.1\n",
      "1          60    117       145     479.0\n",
      "..        ...    ...       ...       ...\n",
      "167        75    120       150     320.4\n",
      "168        75    125       150     330.4\n",
      "\n",
      "[169 rows x 4 columns]\n"
     ]
    }
   ],
   "source": [
    "# Read Data from csv file into dataframe\n",
    "df=pd.read_csv(\"Files/data.csv\")\n",
    "pd.options.display.max_rows=5\n",
    "print(df)"
   ]
  }
 ],
 "metadata": {
  "kernelspec": {
   "display_name": "Python 3 (ipykernel)",
   "language": "python",
   "name": "python3"
  },
  "language_info": {
   "codemirror_mode": {
    "name": "ipython",
    "version": 3
   },
   "file_extension": ".py",
   "mimetype": "text/x-python",
   "name": "python",
   "nbconvert_exporter": "python",
   "pygments_lexer": "ipython3",
   "version": "3.10.12"
  }
 },
 "nbformat": 4,
 "nbformat_minor": 5
}
