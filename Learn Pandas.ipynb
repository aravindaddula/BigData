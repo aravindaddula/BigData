{
 "cells": [
  {
   "cell_type": "code",
   "execution_count": 1,
   "id": "40cd167a-40af-4281-8ef8-49031103b3a4",
   "metadata": {},
   "outputs": [],
   "source": [
    "# Task : Display table from JSON Object\n",
    "import pandas as pd\n",
    "mydataset = {\n",
    "  'cars': [\"BMW\", \"Volvo\", \"Ford\"],\n",
    "  'passings': [3, 7, 2]\n",
    "}\n",
    "result_set=pd.DataFrame(mydataset)\n",
    "# result_set=pd.Series(mydataset)\n",
    "# print(result_set)\n",
    "# print(result_set.loc[0])"
   ]
  },
  {
   "cell_type": "code",
   "execution_count": 2,
   "id": "2574f341-1bba-49fe-9207-aabc482b9df2",
   "metadata": {},
   "outputs": [],
   "source": [
    "# Series\n",
    "\n",
    "a = [1, 7, 2]\n",
    "result=pd.Series(a)\n",
    "# print(result)"
   ]
  },
  {
   "cell_type": "code",
   "execution_count": 3,
   "id": "f85739c4-dd4e-4532-aa01-85de170ba3de",
   "metadata": {},
   "outputs": [],
   "source": [
    "# Create indexes for DataFrame\n",
    "import pandas as pd\n",
    "mydataset = {\n",
    "  'cars': [\"BMW\", \"Volvo\", \"Ford\"],\n",
    "  'passings': [3, 7, 2]\n",
    "}\n",
    "indexes=[\"day1\",\"day2\",\"day3\"]\n",
    "result_set=pd.DataFrame(mydataset,index=indexes)\n",
    "# print(result_set)\n",
    "# print(f'\\n {result_set.loc[\"day1\"]}')"
   ]
  },
  {
   "cell_type": "code",
   "execution_count": 4,
   "id": "3348b66b-6959-4393-874a-975a91e1c3bf",
   "metadata": {},
   "outputs": [],
   "source": [
    "# Read Data from csv file into dataframe\n",
    "df=pd.read_csv(\"Files/data.csv\")\n",
    "# print(df.to_string())\n",
    "# print(df.loc[0])\n",
    "# print(pd.options.display.max_rows)"
   ]
  },
  {
   "cell_type": "code",
   "execution_count": 5,
   "id": "004456cb-6c7a-4f46-a896-1b742ba32099",
   "metadata": {},
   "outputs": [],
   "source": [
    "# Read Data from csv file into dataframe\n",
    "df=pd.read_csv(\"Files/data.csv\")\n",
    "# pd.options.display.max_rows=5\n",
    "# print(df)"
   ]
  },
  {
   "cell_type": "code",
   "execution_count": 3,
   "id": "164edaa0-d31f-4763-a6ac-b0defe47816a",
   "metadata": {},
   "outputs": [
    {
     "name": "stdout",
     "output_type": "stream",
     "text": [
      "      Unnamed: 0 First Name   Last Name  Gender        Country  Age  \\\n",
      "0              1      Dulce       Abril  Female  United States   32   \n",
      "1              2       Mara   Hashimoto  Female  Great Britain   25   \n",
      "2              3     Philip        Gent    Male         France   36   \n",
      "3              4   Kathleen      Hanner  Female  United States   25   \n",
      "4              5    Nereida     Magwood  Female  United States   58   \n",
      "...          ...        ...         ...     ...            ...  ...   \n",
      "4995        4996       Roma  Lafollette  Female  United States   34   \n",
      "4996        4997     Felisa        Cail  Female  United States   28   \n",
      "4997        4998   Demetria       Abbey  Female  United States   32   \n",
      "4998        4999     Jeromy        Danz    Male  United States   39   \n",
      "4999        5000   Rasheeda      Alkire  Female  United States   29   \n",
      "\n",
      "            Date    Id  \n",
      "0     15/10/2017  1562  \n",
      "1     16/08/2016  1582  \n",
      "2     21/05/2015  2587  \n",
      "3     15/10/2017  3549  \n",
      "4     16/08/2016  2468  \n",
      "...          ...   ...  \n",
      "4995  15/10/2017  2654  \n",
      "4996  16/08/2016  6525  \n",
      "4997  21/05/2015  3265  \n",
      "4998  15/10/2017  3265  \n",
      "4999  16/08/2016  6125  \n",
      "\n",
      "[5000 rows x 8 columns]\n"
     ]
    }
   ],
   "source": [
    "import pandas as pd\n",
    "df=pd.read_excel('/home/tony/BigData/Files/file_example_XLSX_5000.xlsx')\n",
    "# df[0][0]='user_id'\n",
    "print(df)"
   ]
  },
  {
   "cell_type": "code",
   "execution_count": 2,
   "id": "38b264e5-ad0c-4ee3-975f-1fbcf3573060",
   "metadata": {},
   "outputs": [
    {
     "name": "stdout",
     "output_type": "stream",
     "text": [
      "        0        1   2   3\n",
      "0    Amar    Alpha  23  69\n",
      "1  Barsha    Bravo  25  54\n",
      "2  Carlos  Charlie  22  73\n",
      "3  Tanmay    Tango  27  70\n",
      "4  Misbah     Mike  29  74\n"
     ]
    }
   ],
   "source": [
    "# importing the pandas library\n",
    "import pandas as pd\n",
    "\n",
    "# creating lists\n",
    "l1 =[\"Amar\", \"Barsha\", \"Carlos\", \"Tanmay\", \"Misbah\"]\n",
    "l2 =[\"Alpha\", \"Bravo\", \"Charlie\", \"Tango\", \"Mike\"]\n",
    "l3 =[23, 25, 22, 27, 29]\n",
    "l4 =[69, 54, 73, 70, 74]\n",
    "\n",
    "# creating the DataFrame\n",
    "team = pd.DataFrame(list(zip(l1, l2, l3, l4)))\n",
    "\n",
    "# displaying the DataFrame\n",
    "print(team)\n"
   ]
  },
  {
   "cell_type": "code",
   "execution_count": 4,
   "id": "3cb1342b-c654-431d-8fdd-9a9baff65ae7",
   "metadata": {},
   "outputs": [
    {
     "name": "stdout",
     "output_type": "stream",
     "text": [
      "   X  B\n",
      "0  1  4\n",
      "1  2  5\n",
      "2  3  6\n"
     ]
    }
   ],
   "source": [
    "import pandas as pd\n",
    "\n",
    "# Sample DataFrame\n",
    "df = pd.DataFrame({'A': [1, 2, 3], 'B': [4, 5, 6]})\n",
    "\n",
    "# Rename the 'A' column to 'X'\n",
    "df.rename(columns={'A': 'X'}, inplace=True)\n",
    "\n",
    "print(df)"
   ]
  }
 ],
 "metadata": {
  "kernelspec": {
   "display_name": "Python 3 (ipykernel)",
   "language": "python",
   "name": "python3"
  },
  "language_info": {
   "codemirror_mode": {
    "name": "ipython",
    "version": 3
   },
   "file_extension": ".py",
   "mimetype": "text/x-python",
   "name": "python",
   "nbconvert_exporter": "python",
   "pygments_lexer": "ipython3",
   "version": "3.10.12"
  }
 },
 "nbformat": 4,
 "nbformat_minor": 5
}
