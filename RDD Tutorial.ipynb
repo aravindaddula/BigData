{
 "cells": [
  {
   "cell_type": "code",
   "execution_count": null,
   "id": "51268d34",
   "metadata": {},
   "outputs": [],
   "source": [
    "# create RDD\n",
    "rdd=sc.parallelize([1,2,3,4,5])\n",
    "\n",
    "# Apply transformation on it\n",
    "getSquares=rdd.map(lambda num:num*num).take(5)\n",
    "print(getSquares)"
   ]
  },
  {
   "cell_type": "code",
   "execution_count": null,
   "id": "20d3a231",
   "metadata": {},
   "outputs": [],
   "source": [
    "# Task: Filter words that starting with letter 'A' or 'a' and store into a text file\n",
    "# Read a text file from locally \n",
    "rdd=sc.textFile('file:///home/tony/BigData/Files/Sample.txt')\n",
    "\n",
    "# split these elements into words and ,flatten the nested list into sigle array using flatMap()\n",
    "splitWords=rdd.flatMap(lambda word:word.split())\n",
    "filterWords=splitWords.filter(lambda word:word.startswith('a'))\n",
    "# ''.join(filterWords).collect()\n",
    "# filterWords.count();\n",
    "finalWords=filterWords.distinct().saveAsTextFile('file:///home/tony/BigData/Files/wordswithA')\n",
    "\n",
    " # finalWords.saveAsTextFile('file:///home/tony/BigData/Files/wordswithA.txt')"
   ]
  },
  {
   "cell_type": "code",
   "execution_count": null,
   "id": "6d443850",
   "metadata": {},
   "outputs": [],
   "source": [
    "# Task : Word count Program\n",
    "# Read a text file from locally \n",
    "rdd=sc.textFile('file:///home/tony/BigData/Files/Sample.txt')\n",
    "\n",
    "# split these elements into words and ,flatten the nested list into sigle array using flatMap()\n",
    "splitWords=rdd.flatMap(lambda word:word.split())\n",
    "groupWords=splitWords.map(lambda word:(word,1))\n",
    "groupWords2=groupWords.groupByKey()\n",
    "groupWords2.collect()\n",
    "# distinct().count()\n"
   ]
  },
  {
   "cell_type": "code",
   "execution_count": null,
   "id": "783ab9b7",
   "metadata": {},
   "outputs": [],
   "source": [
    "# Task: summing program of all the numbers\n",
    "nums=sc.parallelize([1,2,3,4,5])\n",
    "numsSum=nums.reduce(lambda accum,num:accum+num)\n",
    "# numsSum.collect\n",
    "print(numsSum)"
   ]
  },
  {
   "cell_type": "code",
   "execution_count": null,
   "id": "84b418ee",
   "metadata": {},
   "outputs": [],
   "source": [
    "# Task : Join two data sets\n",
    "set1=sc.parallelize([(1,'a')])\n",
    "set2=sc.parallelize([(1,'a')])\n",
    "joined=set1.join(set2)\n",
    "joined.collect()"
   ]
  },
  {
   "cell_type": "code",
   "execution_count": null,
   "id": "120e87fd",
   "metadata": {},
   "outputs": [],
   "source": [
    "# Task : Union two data sets\n",
    "set1=sc.parallelize([1,2,3,4])\n",
    "set2=sc.parallelize(['a','b','c','d','e'])\n",
    "joined=set1.union(set2)\n",
    "joined.collect()"
   ]
  },
  {
   "cell_type": "code",
   "execution_count": 3,
   "id": "ec822ef9-ac5f-41de-ba2f-b4b2f5bbf5b4",
   "metadata": {},
   "outputs": [],
   "source": [
    "rdd=sc.textFile('file:///home/tony/BigData/Files/Sample.txt')"
   ]
  },
  {
   "cell_type": "code",
   "execution_count": null,
   "id": "ba886da9-39f2-48d8-be9e-e3c59701c04e",
   "metadata": {},
   "outputs": [
    {
     "data": {
      "text/plain": [
       "['For example, a SQL query (using the .sql() method) that references your DataFrame will throw an error. To access the data in this way, you have to save it as a temporary table.',\n",
       " \"You can do this using the .createTempView() Spark DataFrame method, which takes as its only argument the name of the temporary table you'd like to register. This method registers the DataFrame as a table in the catalog, but as this table is temporary, it can only be accessed from the specific SparkSession used to create the Spark DataFrame.\"]"
      ]
     },
     "execution_count": 70,
     "metadata": {},
     "output_type": "execute_result"
    }
   ],
   "source": [
    "rdd.take(2)\n",
    "# print(type(rdd))\n"
   ]
  },
  {
   "cell_type": "code",
   "execution_count": 4,
   "id": "aec1c566-e504-4feb-8d96-5d3715366f78",
   "metadata": {
    "scrolled": true
   },
   "outputs": [],
   "source": [
    "# create function to convert a paragraph to Words\n",
    "# convertToLower=rdd.map(lambda lines:lines.lower().split())\n",
    "\n",
    "convertToLower=rdd.map(lambda lines:lines.lower().split(' '))\n",
    "\n",
    "# convertToLower.take(1)[0]\n",
    "def convertToLower(lines):\n",
    "    lines=lines.lower()\n",
    "    lines=lines.split(',')\n",
    "    return lines\n",
    "convertToLower=rdd.map(convertToLower)"
   ]
  },
  {
   "cell_type": "code",
   "execution_count": null,
   "id": "0ee3a61f-b5ee-4abc-898d-bb6996b31336",
   "metadata": {},
   "outputs": [],
   "source": []
  },
  {
   "cell_type": "code",
   "execution_count": 1,
   "id": "9e9dfa4b-868d-40d7-8289-da3787c55729",
   "metadata": {},
   "outputs": [],
   "source": [
    "# print(type(convertToLower.take(1)[0]))\n",
    "convertToLower.take(1)[0].filter(lambda x:len(x)==4)\n",
    "# vals=splittedList[0]\n",
    "# filter the list elements that has length 4\n",
    "# filterLengthFour=vals.filter(lambda x:len(x)==4)\n",
    "# print(filterLenghFour)"
   ]
  },
  {
   "cell_type": "code",
   "execution_count": 19,
   "id": "e7901d01-ad4c-4f5d-8c7a-fe3a351837ad",
   "metadata": {},
   "outputs": [
    {
     "data": {
      "text/plain": [
       "[('APPLE', <pyspark.resultiterable.ResultIterable at 0x7f74682d5f90>),\n",
       " ('ORANGE', <pyspark.resultiterable.ResultIterable at 0x7f7468483160>)]"
      ]
     },
     "execution_count": 19,
     "metadata": {},
     "output_type": "execute_result"
    }
   ],
   "source": [
    "# Task :Practice GroupByKey()\n",
    "data=((\"APPLE\",1),(\"ORANGE\",2),(\"ORANGE\",3),(\"APPLE\",4),(\"ORANGE\",5))\n",
    "# data=[\"APPLE\",\"ORANGE\",\"ORANGE\",\"APPLE\",\"ORANGE\"]\n",
    "\n",
    "fruits_rdd=sc.parallelize(data)\n",
    "group_fruits=fruits_rdd.groupByKey()\n",
    "group_fruits.collect()#.foreach(println)"
   ]
  }
 ],
 "metadata": {
  "kernelspec": {
   "display_name": "Python 3 (ipykernel)",
   "language": "python",
   "name": "python3"
  },
  "language_info": {
   "codemirror_mode": {
    "name": "ipython",
    "version": 3
   },
   "file_extension": ".py",
   "mimetype": "text/x-python",
   "name": "python",
   "nbconvert_exporter": "python",
   "pygments_lexer": "ipython3",
   "version": "3.10.12"
  }
 },
 "nbformat": 4,
 "nbformat_minor": 5
}
