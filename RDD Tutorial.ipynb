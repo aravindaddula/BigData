{
 "cells": [
  {
   "cell_type": "code",
   "execution_count": 3,
   "id": "ec822ef9-ac5f-41de-ba2f-b4b2f5bbf5b4",
   "metadata": {},
   "outputs": [],
   "source": [
    "rdd=sc.textFile('file:///home/tony/BigData/Files/Sample.txt')"
   ]
  },
  {
   "cell_type": "code",
   "execution_count": 70,
   "id": "ba886da9-39f2-48d8-be9e-e3c59701c04e",
   "metadata": {},
   "outputs": [
    {
     "data": {
      "text/plain": [
       "['For example, a SQL query (using the .sql() method) that references your DataFrame will throw an error. To access the data in this way, you have to save it as a temporary table.',\n",
       " \"You can do this using the .createTempView() Spark DataFrame method, which takes as its only argument the name of the temporary table you'd like to register. This method registers the DataFrame as a table in the catalog, but as this table is temporary, it can only be accessed from the specific SparkSession used to create the Spark DataFrame.\"]"
      ]
     },
     "execution_count": 70,
     "metadata": {},
     "output_type": "execute_result"
    }
   ],
   "source": [
    "rdd.take(2)\n",
    "# print(type(rdd))"
   ]
  },
  {
   "cell_type": "code",
   "execution_count": 4,
   "id": "aec1c566-e504-4feb-8d96-5d3715366f78",
   "metadata": {
    "scrolled": true
   },
   "outputs": [],
   "source": [
    "# create function to convert a paragraph to Words\n",
    "# convertToLower=rdd.map(lambda lines:lines.lower().split())\n",
    "\n",
    "convertToLower=rdd.map(lambda lines:lines.lower().split(' '))\n",
    "\n",
    "# convertToLower.take(1)[0]\n",
    "def convertToLower(lines):\n",
    "    lines=lines.lower()\n",
    "    lines=lines.split(',')\n",
    "    return lines\n",
    "convertToLower=rdd.map(convertToLower)"
   ]
  },
  {
   "cell_type": "code",
   "execution_count": null,
   "id": "0ee3a61f-b5ee-4abc-898d-bb6996b31336",
   "metadata": {},
   "outputs": [],
   "source": []
  },
  {
   "cell_type": "code",
   "execution_count": 1,
   "id": "9e9dfa4b-868d-40d7-8289-da3787c55729",
   "metadata": {},
   "outputs": [],
   "source": [
    "# print(type(convertToLower.take(1)[0]))\n",
    "convertToLower.take(1)[0].filter(lambda x:len(x)==4)\n",
    "# vals=splittedList[0]\n",
    "# filter the list elements that has length 4\n",
    "# filterLengthFour=vals.filter(lambda x:len(x)==4)\n",
    "# print(filterLenghFour)"
   ]
  },
  {
   "cell_type": "code",
   "execution_count": 19,
   "id": "e7901d01-ad4c-4f5d-8c7a-fe3a351837ad",
   "metadata": {},
   "outputs": [
    {
     "data": {
      "text/plain": [
       "[('APPLE', <pyspark.resultiterable.ResultIterable at 0x7f74682d5f90>),\n",
       " ('ORANGE', <pyspark.resultiterable.ResultIterable at 0x7f7468483160>)]"
      ]
     },
     "execution_count": 19,
     "metadata": {},
     "output_type": "execute_result"
    }
   ],
   "source": [
    "# Task :Practice GroupByKey()\n",
    "data=((\"APPLE\",1),(\"ORANGE\",2),(\"ORANGE\",3),(\"APPLE\",4),(\"ORANGE\",5))\n",
    "# data=[\"APPLE\",\"ORANGE\",\"ORANGE\",\"APPLE\",\"ORANGE\"]\n",
    "\n",
    "fruits_rdd=sc.parallelize(data)\n",
    "group_fruits=fruits_rdd.groupByKey()\n",
    "group_fruits.collect()#.foreach(println)"
   ]
  }
 ],
 "metadata": {
  "kernelspec": {
   "display_name": "Python 3 (ipykernel)",
   "language": "python",
   "name": "python3"
  },
  "language_info": {
   "codemirror_mode": {
    "name": "ipython",
    "version": 3
   },
   "file_extension": ".py",
   "mimetype": "text/x-python",
   "name": "python",
   "nbconvert_exporter": "python",
   "pygments_lexer": "ipython3",
   "version": "3.10.12"
  }
 },
 "nbformat": 4,
 "nbformat_minor": 5
}
