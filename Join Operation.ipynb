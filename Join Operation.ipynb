{
 "cells": [
  {
   "cell_type": "code",
   "execution_count": 13,
   "id": "4a5d6ae9-9110-4cc9-b4d3-030ec80080aa",
   "metadata": {},
   "outputs": [
    {
     "name": "stderr",
     "output_type": "stream",
     "text": [
      "                                                                                \r"
     ]
    },
    {
     "data": {
      "text/plain": [
       "[(1, ('a', 'a'))]"
      ]
     },
     "execution_count": 13,
     "metadata": {},
     "output_type": "execute_result"
    }
   ],
   "source": [
    "# Task : Join two data sets\n",
    "set1=sc.parallelize([(1,'a')])\n",
    "set2=sc.parallelize([(1,'a')])\n",
    "joined=set1.join(set2)\n",
    "joined.collect()"
   ]
  },
  {
   "cell_type": "code",
   "execution_count": 7,
   "id": "bedc8dbc-6e34-443e-bd4f-08d219ab9aa8",
   "metadata": {},
   "outputs": [
    {
     "data": {
      "text/plain": [
       "[1, 2, 3, 4, 'a', 'b', 'c', 'd', 'e']"
      ]
     },
     "execution_count": 7,
     "metadata": {},
     "output_type": "execute_result"
    }
   ],
   "source": [
    "# Task : Union two data sets\n",
    "set1=sc.parallelize([1,2,3,4])\n",
    "set2=sc.parallelize(['a','b','c','d','e'])\n",
    "joined=set1.union(set2)\n",
    "joined.collect()"
   ]
  }
 ],
 "metadata": {
  "kernelspec": {
   "display_name": "Python 3 (ipykernel)",
   "language": "python",
   "name": "python3"
  },
  "language_info": {
   "codemirror_mode": {
    "name": "ipython",
    "version": 3
   },
   "file_extension": ".py",
   "mimetype": "text/x-python",
   "name": "python",
   "nbconvert_exporter": "python",
   "pygments_lexer": "ipython3",
   "version": "3.12.3"
  }
 },
 "nbformat": 4,
 "nbformat_minor": 5
}
