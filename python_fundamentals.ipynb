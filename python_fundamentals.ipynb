{
 "cells": [
  {
   "cell_type": "code",
   "execution_count": null,
   "id": "c594abbc",
   "metadata": {},
   "outputs": [],
   "source": [
    "''' Build a tree data structure '''\n"
   ]
  },
  {
   "cell_type": "code",
   "execution_count": 13,
   "id": "7c73da96",
   "metadata": {},
   "outputs": [
    {
     "name": "stdout",
     "output_type": "stream",
     "text": [
      "{'North': 300, 'South': 150, 'East': 350}\n"
     ]
    }
   ],
   "source": [
    "# Parse a CSV containing sales records and return total sales by region.\n",
    "# Simulating CSV rows\n",
    "sales = [\n",
    "    {\"region\": \"North\", \"amount\": 200},\n",
    "    {\"region\": \"South\", \"amount\": 150},\n",
    "    {\"region\": \"North\", \"amount\": 100},\n",
    "    {\"region\": \"East\", \"amount\": 350},\n",
    "]\n",
    "\n",
    "summarized={}\n",
    "\n",
    "for doc in sales:\n",
    "    summarized[doc[\"region\"]] = doc[\"amount\"] + summarized.get(doc[\"region\"],0)\n",
    "\n",
    "\n",
    "print(summarized)\n"
   ]
  },
  {
   "cell_type": "code",
   "execution_count": 48,
   "id": "5fca9e31",
   "metadata": {},
   "outputs": [
    {
     "name": "stdout",
     "output_type": "stream",
     "text": [
      "[('apple', 3), ('banana', 2), ('orange', 1)]\n"
     ]
    }
   ],
   "source": [
    "# Given a text file, return the top N most frequent words.\n",
    "from collections import Counter\n",
    "\n",
    "fruit_lst=[]\n",
    "with open('./practice_files/fruits.txt','r') as file:\n",
    "    fruit_lst = file.read().split(' ')\n",
    "    # fruit_lst = fruit_lst.split(' ')\n",
    "\n",
    "cnt_frts = {}\n",
    "\n",
    "for fr in fruit_lst:\n",
    "    cnt_frts[fr] = cnt_frts.get(fr,0) + 1\n",
    "# word_cnt = Counter(fruit_lst)\n",
    "\n",
    "# print(word_cnt.most_common())\n",
    "sorted_dict = sorted(cnt_frts.items(),key= lambda item: item[1],reverse=True)\n",
    "print(sorted_dict)\n"
   ]
  },
  {
   "cell_type": "code",
   "execution_count": null,
   "id": "0caa5d4d",
   "metadata": {},
   "outputs": [],
   "source": [
    "# Extract Valid Email Addresses\n",
    "# Problem: Extract all email addresses from a large string.\n",
    "SampleInput=\"Contact us at support@example.com or hr@company.org\"\n"
   ]
  },
  {
   "cell_type": "code",
   "execution_count": 51,
   "id": "c1707f11",
   "metadata": {},
   "outputs": [
    {
     "name": "stdout",
     "output_type": "stream",
     "text": [
      "0    {'name': 'Alice', 'sales': 100}\n",
      "1      {'name': 'Bob', 'sales': 150}\n",
      "2    {'name': 'Alice', 'sales': 200}\n",
      "dtype: object\n"
     ]
    }
   ],
   "source": [
    "# 7. Convert a List of Dictionaries to a DataFrame\n",
    "# Problem: Write code to convert a list of dicts into a Pandas DataFrame and perform aggregations.\n",
    "SampleInput =[\n",
    "  {\"name\": \"Alice\", \"sales\": 100},\n",
    "  {\"name\": \"Bob\", \"sales\": 150},\n",
    "  {\"name\": \"Alice\", \"sales\": 200}\n",
    "]\n",
    "\n",
    "import pandas as pd\n",
    "df = pd.Series(SampleInput)\n",
    "\n",
    "print(df)"
   ]
  },
  {
   "cell_type": "code",
   "execution_count": 67,
   "id": "6c9a2fed",
   "metadata": {},
   "outputs": [
    {
     "name": "stdout",
     "output_type": "stream",
     "text": [
      "[15.0, 25.0, 35.0, 45.0]\n"
     ]
    }
   ],
   "source": [
    "''' 8. Compute Rolling Average\n",
    "Problem: Given a list of numbers, compute a rolling average with window size k.\n",
    "'''\n",
    "\n",
    "Input_nums = [10, 20, 30, 40, 50]\n",
    "k = 2\n",
    "start=0\n",
    "end = k\n",
    "\n",
    "avgs=[]\n",
    "# Num of windows\n",
    "for win in range(len(Input_nums) - k + 1):\n",
    "    if(k <=0 or k > len(Input_nums)):\n",
    "        break\n",
    "    iter_sum=0\n",
    "    for num in range(start,end):\n",
    "        iter_sum = Input_nums[num] + iter_sum\n",
    "    # print(f\"Average is {iter_sum/k}\")\n",
    "    start = start + 1\n",
    "    end=end + 1\n",
    "    # print(f\"{win} th completed\")\n",
    "    avgs.append(iter_sum/k)\n",
    "print(avgs)"
   ]
  }
 ],
 "metadata": {
  "kernelspec": {
   "display_name": ".venv",
   "language": "python",
   "name": "python3"
  },
  "language_info": {
   "codemirror_mode": {
    "name": "ipython",
    "version": 3
   },
   "file_extension": ".py",
   "mimetype": "text/x-python",
   "name": "python",
   "nbconvert_exporter": "python",
   "pygments_lexer": "ipython3",
   "version": "3.12.3"
  }
 },
 "nbformat": 4,
 "nbformat_minor": 5
}
