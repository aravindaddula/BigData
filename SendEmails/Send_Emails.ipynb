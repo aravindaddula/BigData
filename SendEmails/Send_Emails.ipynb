{
 "cells": [
  {
   "cell_type": "code",
   "execution_count": 10,
   "id": "d6735b5b-14fe-4ec7-b420-a7034f572e29",
   "metadata": {},
   "outputs": [
    {
     "name": "stdout",
     "output_type": "stream",
     "text": [
      "Sending email to: aravind.addula@srifincredit.com with CC to: aravindaddula@gmail.com\n",
      "Email sent to: aravind.addula@srifincredit.com with CC to: aravindaddula@gmail.com\n",
      "E-mail sent to aravind.addula@srifincredit.com cc aravindaddula@gmail.com\n",
      "**** EOD - Email sending process completed!  ***\n"
     ]
    }
   ],
   "source": [
    "\n",
    "import pandas as pd\n",
    "import smtplib,ssl\n",
    "from email.message import EmailMessage\n",
    "import os\n",
    "import openpyxl\n",
    "import time\n",
    "import datetime\n",
    "\n",
    "# ts store timestamp of current time\n",
    "ct = datetime.datetime.now()\n",
    "date = ct.date()\n",
    "mytime = ct.time()\n",
    "time_str = mytime.strftime('%H-%M-%S')\n",
    "cycledate = f'{date}-{time_str}'\n",
    "\n",
    "# Execute the query and load results into a Pandas DataFrame\n",
    "\n",
    "# Mail Function to send Consolidated to HO Users\n",
    "def send_email(recipient_email, cc_email):\n",
    "    print(f\"Sending email to: {recipient_email} with CC to: {cc_email}\")\n",
    "    \n",
    "    # Validation check for email address\n",
    "    if not recipient_email or \"@\" not in recipient_email:\n",
    "        print(f\"Invalid email address: {recipient_email}\")\n",
    "        return\n",
    "    \n",
    "    # Create the email message\n",
    "    msg = EmailMessage()\n",
    "    msg['Subject'] = f\"Consolidated Report of CSM Performance on - {cycledate}\"\n",
    "    msg['From'] = 'misreports@srifincredit.com'  # Replace with your email\n",
    "    msg['To'] = recipient_email\n",
    "    msg['Cc'] = cc_email\n",
    "    \n",
    "    body = f\"\"\"<html>\n",
    "    <head> </head>\n",
    "    <body>\n",
    "        <p>Dear HO Users,</p>\n",
    "        <p>Here is CSM Performance report. Find the attachment and please let us know if you may have any queries.</p>\n",
    "        <p>Thanks & Regards,<br>Aravind Addula <br>Assistant Manager-IT</p>\n",
    "    </body>\n",
    "    </html>\"\"\"\n",
    "    msg.add_alternative(body, subtype='html')  \n",
    "    \n",
    "      \n",
    "    # Connect to the SMTP server and send the email\n",
    "    try:\n",
    "        with smtplib.SMTP_SSL('smtp.gmail.com', 465) as server:  # Replace with your SMTP server and port\n",
    "            server.login('misreports@srifincredit.com', 'rwov buvp jkek hujk')  # Replace with your email and password\n",
    "            server.send_message(msg)\n",
    "        print(f\"Email sent to: {recipient_email} with CC to: {cc_email}\")\n",
    "    except Exception as e:\n",
    "        print(f\"Failed to send email to {recipient_email} with CC to: {cc_email}: {e}\")\n",
    "    # finally:\n",
    "    #     # Clean up the temporary file\n",
    "    #     if os.path.exists(filename):\n",
    "    #         os.remove(filename)\n",
    "\n",
    "recipient_email = 'aravind.addula@srifincredit.com'\n",
    "cc_email = 'aravindaddula@gmail.com'\n",
    "send_email(recipient_email, cc_email)\n",
    "print(f'E-mail sent to {recipient_email} cc {cc_email}')\n",
    "\n",
    "print(\"**** EOD - Email sending process completed!  ***\")\n"
   ]
  },
  {
   "cell_type": "code",
   "execution_count": null,
   "id": "20b1d6c9-3978-4e90-950c-2233788ccf2d",
   "metadata": {},
   "outputs": [],
   "source": []
  }
 ],
 "metadata": {
  "kernelspec": {
   "display_name": "Python 3 (ipykernel)",
   "language": "python",
   "name": "python3"
  },
  "language_info": {
   "codemirror_mode": {
    "name": "ipython",
    "version": 3
   },
   "file_extension": ".py",
   "mimetype": "text/x-python",
   "name": "python",
   "nbconvert_exporter": "python",
   "pygments_lexer": "ipython3",
   "version": "3.10.12"
  }
 },
 "nbformat": 4,
 "nbformat_minor": 5
}
