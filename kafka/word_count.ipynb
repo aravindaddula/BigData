{
 "cells": [
  {
   "cell_type": "code",
   "execution_count": null,
   "id": "46d64e17",
   "metadata": {},
   "outputs": [
    {
     "name": "stdout",
     "output_type": "stream",
     "text": [
      "spark session created <pyspark.sql.session.SparkSession object at 0x7d23dcfdfad0> at 2025-06-22 13:03:28.306384\n"
     ]
    },
    {
     "data": {
      "text/html": [
       "\n",
       "            <div>\n",
       "                <p><b>SparkSession - in-memory</b></p>\n",
       "                \n",
       "        <div>\n",
       "            <p><b>SparkContext</b></p>\n",
       "\n",
       "            <p><a href=\"http://localhost:4040\">Spark UI</a></p>\n",
       "\n",
       "            <dl>\n",
       "              <dt>Version</dt>\n",
       "                <dd><code>v3.5.5</code></dd>\n",
       "              <dt>Master</dt>\n",
       "                <dd><code>local[*]</code></dd>\n",
       "              <dt>AppName</dt>\n",
       "                <dd><code>Streaming-Preparation</code></dd>\n",
       "            </dl>\n",
       "        </div>\n",
       "        \n",
       "            </div>\n",
       "        "
      ],
      "text/plain": [
       "<pyspark.sql.session.SparkSession at 0x7d23dcfdfad0>"
      ]
     },
     "execution_count": 94,
     "metadata": {},
     "output_type": "execute_result"
    }
   ],
   "source": [
    "from pyspark.sql import SparkSession\n",
    "import datetime\n",
    "spark = SparkSession.builder \\\n",
    "    .appName(\"Streaming-Preparation\")\\\n",
    "    .config(\"spark.drive.host\",\"127.0.0.1\") \\\n",
    "    .config(\"spark.sql.execution.arrow.enabled\", \"true\") \\\n",
    "    .config(\"spark.executor.memory\",\"4g\") \\\n",
    "    .config(\"spark.driver.memory\",\"8g\") \\\n",
    "    .getOrCreate()\n",
    "spark.sparkContext.setLogLevel(\"ERROR\")\n",
    "# spark.sparkContext.setLogLevel(\"DEBUG\")\n",
    "print(f'spark session created {spark} at {datetime.datetime.now()}')\n",
    "spark.stop()\n",
    "spark"
   ]
  },
  {
   "cell_type": "code",
   "execution_count": 95,
   "id": "3f89a80f",
   "metadata": {},
   "outputs": [],
   "source": [
    "''' This Application will read the data from the port 10000 that is opened by ncat web socket'''\n",
    "# server_props = {\n",
    "#     \"host\":\"localhost\",\n",
    "#     \"port\":9999\n",
    "# }\n",
    "df0 = spark.readStream.format(\"socket\").option(\"host\",\"localhost\").option(\"port\",9992).load()"
   ]
  },
  {
   "cell_type": "code",
   "execution_count": 96,
   "id": "1f3eb0a3",
   "metadata": {},
   "outputs": [
    {
     "name": "stdout",
     "output_type": "stream",
     "text": [
      "root\n",
      " |-- value: string (nullable = true)\n",
      "\n"
     ]
    }
   ],
   "source": [
    "df0.printSchema()"
   ]
  },
  {
   "cell_type": "code",
   "execution_count": 97,
   "id": "e8b4ff16",
   "metadata": {},
   "outputs": [],
   "source": [
    "# Logic part\n",
    "from pyspark.sql.window import Window\n",
    "import pyspark.sql.functions as F\n",
    "\n",
    "# levit_txt ='./test_text.txt'\n",
    "# df = spark.read.format(\"text\").load(levit_txt)\n",
    "# df=df.withColumn(\"words\",F.split(F.col(\"value\"),\" \"))\n",
    "\n",
    "df=df0.withColumn(\"words\",F.split(F.col(\"value\"),\" \"))\n",
    "df=df.withColumn(\"word\",F.explode(F.col(\"words\"))).drop(\"value\",\"words\")\n",
    "results=df.groupBy(\"word\").agg(F.count(\"word\").alias(\"word_cnt\")).orderBy(\"word\")\n",
    "\n",
    "# result.show()"
   ]
  },
  {
   "cell_type": "code",
   "execution_count": null,
   "id": "41b87ff4",
   "metadata": {},
   "outputs": [],
   "source": [
    "# WriteStream\n",
    "results.writeStream.outputMode(\"complete\").format(\"console\").start().awaitTermination()\n"
   ]
  }
 ],
 "metadata": {
  "kernelspec": {
   "display_name": ".venv",
   "language": "python",
   "name": "python3"
  },
  "language_info": {
   "codemirror_mode": {
    "name": "ipython",
    "version": 3
   },
   "file_extension": ".py",
   "mimetype": "text/x-python",
   "name": "python",
   "nbconvert_exporter": "python",
   "pygments_lexer": "ipython3",
   "version": "3.12.3"
  }
 },
 "nbformat": 4,
 "nbformat_minor": 5
}
