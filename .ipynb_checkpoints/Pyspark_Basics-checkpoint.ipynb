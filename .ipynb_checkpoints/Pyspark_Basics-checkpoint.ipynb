{
 "cells": [
  {
   "cell_type": "code",
   "execution_count": null,
   "id": "34a090f4-fb3d-4be3-9c6b-75a03e831a9d",
   "metadata": {},
   "outputs": [],
   "source": [
    "# This file covers basic steps to get started with pyspark\n",
    "# Basic Tasks"
   ]
  },
  {
   "cell_type": "code",
   "execution_count": 1,
   "id": "f7a65ee6-181b-4dfa-bd99-0c102eb21040",
   "metadata": {},
   "outputs": [
    {
     "name": "stderr",
     "output_type": "stream",
     "text": [
      "24/04/13 13:25:24 WARN SparkSession: Using an existing Spark session; only runtime SQL configurations will take effect.\n"
     ]
    }
   ],
   "source": [
    "from pyspark.sql import SparkSession\n",
    "spark=SparkSession.builder.appName('Fundementals').getOrCreate()"
   ]
  },
  {
   "cell_type": "code",
   "execution_count": 2,
   "id": "b1e5ebd5-9516-4a81-98be-f86f4e34aa56",
   "metadata": {},
   "outputs": [
    {
     "name": "stderr",
     "output_type": "stream",
     "text": [
      "24/04/13 13:25:33 WARN SparkSession: Using an existing Spark session; only runtime SQL configurations will take effect.\n",
      "                                                                                \r"
     ]
    },
    {
     "name": "stdout",
     "output_type": "stream",
     "text": [
      "+-------+---+\n",
      "|   Name|Age|\n",
      "+-------+---+\n",
      "|Charlie| 35|\n",
      "|   Tony| 50|\n",
      "+-------+---+\n",
      "\n"
     ]
    }
   ],
   "source": [
    "# Task 1: Read and display data\n",
    "\n",
    "from pyspark.sql import SparkSession\n",
    "spark=SparkSession.builder.appName('first').getOrCreate()\n",
    "data = [(\"Alice\", 25), (\"Bob\", 30), (\"Charlie\", 35),(\"Tony\",50)]\n",
    "df=spark.createDataFrame(data,[\"Name\",\"Age\"])\n",
    "df.filter(df.Age>30).show()"
   ]
  },
  {
   "cell_type": "code",
   "execution_count": 4,
   "id": "1643b9c0-ae31-4ebb-8832-ba53107af397",
   "metadata": {},
   "outputs": [
    {
     "data": {
      "text/plain": [
       "''"
      ]
     },
     "execution_count": 4,
     "metadata": {},
     "output_type": "execute_result"
    }
   ],
   "source": [
    "# Task 2 : Filtering Data\n",
    "# df.filter(df.Age>30).show()\n",
    ";"
   ]
  },
  {
   "cell_type": "code",
   "execution_count": 6,
   "id": "3fbda4fe-f506-433f-8caa-13abbbe3eb3e",
   "metadata": {},
   "outputs": [
    {
     "data": {
      "text/plain": [
       "''"
      ]
     },
     "execution_count": 6,
     "metadata": {},
     "output_type": "execute_result"
    }
   ],
   "source": [
    "# Task : Grouping and Aggregation\n",
    "# df.groupBy(df.Age).count().show();"
   ]
  },
  {
   "cell_type": "code",
   "execution_count": null,
   "id": "9122e661-0d51-4f35-8f53-397dbe68fa23",
   "metadata": {},
   "outputs": [],
   "source": [
    "# Intermediate Tasks:"
   ]
  },
  {
   "cell_type": "code",
   "execution_count": 19,
   "id": "76f1df3d-3e2d-4acc-8733-2deb96a8bb6b",
   "metadata": {},
   "outputs": [],
   "source": [
    "# Task Joining dataframes\n",
    "data = [(\"Alice\", 25), (\"Bob\", 30), (\"Charlie\", 35),(\"Tony\",50)]\n",
    "data2 = [(\"Alice\", \"Engineer\"), (\"Bob\", \"Doctor\"), (\"Charlie\", \"Teacher\")]\n",
    "\n",
    "df=spark.createDataFrame(data,[\"Name\",\"Age\"])\n",
    "df2=spark.createDataFrame(data2, [\"Name\", \"Occupation\"])\n",
    "\n",
    "# df.join(df2,\"Name\").show()\n",
    "# df.join(df2,df.Name==df2.Name,\"left\").show()\n",
    "# df.join(df2,df.Name==df2.Name,\"right\").show()\n",
    "# df.join(df2,df.Name==df2.Name,\"full\").show()\n",
    "# if you use left anti will it display right side table columns\n",
    "# df.join(df2,df.Name==df2.Name,\"leftanti\").show()\n"
   ]
  },
  {
   "cell_type": "code",
   "execution_count": 30,
   "id": "a0c78dc6-5298-4abc-a466-265332589cfe",
   "metadata": {},
   "outputs": [],
   "source": [
    "# DataFrame Aliasing\n",
    "\n",
    "data = [(\"Alice\", 25), (\"Bob\", 30), (\"Charlie\", 35),(\"Tony\",50)]\n",
    "data2 = [(\"Alice\", \"Engineer\"), (\"Bob\", \"Doctor\"), (\"Charlie\", \"Teacher\")]\n",
    "\n",
    "df=spark.createDataFrame(data,[\"Name\",\"Age\"])\n",
    "df2=spark.createDataFrame(data2, [\"Name\", \"Occupation\"])\n",
    "# using the alias method\n",
    "ages=df.alias(\"df\")\n",
    "# ages.join(df2,\"Name\").show()\n",
    "\n",
    "# using the sql style aliasing mehtod\n",
    "joined_df=df.alias(\"all_ages\").join(df2.alias(\"occ\"),df.Name==df2.Name)\n",
    "# joined_df.select(\"all_ages.Name\",\"occ.Occupation\").show()"
   ]
  },
  {
   "cell_type": "code",
   "execution_count": 19,
   "id": "6e3fb845-bc02-4f33-9fb2-7701f566543c",
   "metadata": {},
   "outputs": [
    {
     "data": {
      "text/plain": [
       "''"
      ]
     },
     "execution_count": 19,
     "metadata": {},
     "output_type": "execute_result"
    }
   ],
   "source": [
    "# Task : Handling Missing Data or remove the record that contain null value\n",
    "data_with_null = [(\"Alice\", 25), (\"Bob\", None), (\"Charlie\", 35)]\n",
    "df_with_null = spark.createDataFrame(data_with_null, [\"Name\", \"Age\"])\n",
    "df_with_null.na.drop()\n",
    "# .show()\n",
    ";"
   ]
  },
  {
   "cell_type": "code",
   "execution_count": null,
   "id": "06605880-2d7d-4622-84a1-9975bcefa264",
   "metadata": {},
   "outputs": [],
   "source": [
    "# Advanced Tasks:"
   ]
  },
  {
   "cell_type": "code",
   "execution_count": 20,
   "id": "994e84d5-7a89-4225-ac68-30d3e83c3480",
   "metadata": {},
   "outputs": [
    {
     "data": {
      "text/plain": [
       "DataFrame[Name: string, Age: bigint, UpperName: string]"
      ]
     },
     "execution_count": 20,
     "metadata": {},
     "output_type": "execute_result"
    }
   ],
   "source": [
    "# Task: User-Defined Functions (UDFs): \n",
    "# Convert & Create upperCase column for Name column\n",
    "\n",
    "from pyspark.sql.functions import udf\n",
    "# udf registration\n",
    "upper_udf=udf(lambda name:name.upper())\n",
    "df.withColumn(\"UpperName\",upper_udf(df[\"Name\"]))\n",
    "# .show()\n",
    "# df.show()"
   ]
  },
  {
   "cell_type": "code",
   "execution_count": 10,
   "id": "6f17b39e-2f7c-4eaa-9a0f-173ca08cd0bf",
   "metadata": {},
   "outputs": [
    {
     "data": {
      "text/plain": [
       "DataFrame[Name: string, Age: bigint, Row_num: int]"
      ]
     },
     "execution_count": 10,
     "metadata": {},
     "output_type": "execute_result"
    }
   ],
   "source": [
    "# Window Functions : generate rownumber based on Age class\n",
    "from pyspark.sql.functions import row_number\n",
    "from pyspark.sql import Window\n",
    "orderBySpec=Window.orderBy(\"Age\")\n",
    "df.withColumn(\"Row_num\",row_number().over(orderBySpec)) \\\n",
    "# .show()"
   ]
  },
  {
   "cell_type": "code",
   "execution_count": 11,
   "id": "f8b9e117-7d50-4cc5-b2b1-3e1aef57ac05",
   "metadata": {},
   "outputs": [
    {
     "data": {
      "text/plain": [
       "DataFrame[employee_name: string, department: string, sum(salary): bigint]"
      ]
     },
     "execution_count": 11,
     "metadata": {},
     "output_type": "execute_result"
    }
   ],
   "source": [
    "# Groupby on multiple columns\n",
    "simpleData = [(\"James\", \"Sales\", 3000),\n",
    "    (\"Michael\", \"Sales\", 4600),\n",
    "    (\"Robert\", \"Sales\", 4100),\n",
    "    (\"Maria\", \"Finance\", 3000),\n",
    "    (\"James\", \"Sales\", 3000),\n",
    "    (\"Scott\", \"Finance\", 3300),\n",
    "    (\"Jen\", \"Finance\", 3900),\n",
    "    (\"Jeff\", \"Marketing\", 3000),\n",
    "    (\"Kumar\", \"Marketing\", 2000),\n",
    "    (\"Saif\", \"Sales\", 4100)\n",
    "  ]\n",
    "schema = [\"employee_name\", \"department\", \"salary\"]\n",
    "df = spark.createDataFrame(data=simpleData, schema = schema)\n",
    "# df.printSchema()\n",
    "# df.show(truncate=False)\n",
    "df.groupBy(\"employee_name\", \"department\").sum(\"salary\")\\\n",
    "# .show()"
   ]
  },
  {
   "cell_type": "code",
   "execution_count": 14,
   "id": "6364f24e-69fd-469a-a930-5346b4c8df4a",
   "metadata": {},
   "outputs": [
    {
     "data": {
      "text/plain": [
       "DataFrame[firstname: string, middlename: string, lastname: string, regno: string, sex: string]"
      ]
     },
     "execution_count": 14,
     "metadata": {},
     "output_type": "execute_result"
    }
   ],
   "source": [
    "# Define nested structType\n",
    "# Defining schema using nested StructType\n",
    "from pyspark.sql.types import *\n",
    "\n",
    "structureData = [\n",
    "    ((\"James\",\"\",\"Smith\"),\"36636\",\"M\",3100),\n",
    "    ((\"Michael\",\"Rose\",\"\"),\"40288\",\"M\",4300),\n",
    "    ((\"Robert\",\"\",\"Williams\"),\"42114\",\"M\",1400),\n",
    "    ((\"Maria\",\"Anne\",\"Jones\"),\"39192\",\"F\",5500),\n",
    "    ((\"Jen\",\"Mary\",\"Brown\"),None,\"F\",-1)\n",
    "  ]\n",
    "structSchema=StructType([\n",
    "    StructField(\"fullname\",\n",
    "            StructType([\n",
    "                StructField(\"firstname\",StringType(),True),\n",
    "                StructField(\"middlename\",StringType(),True),\n",
    "                StructField(\"lastname\",StringType(),True)\n",
    "    ])),\n",
    "    StructField(\"regno\",StringType(),True),\n",
    "    StructField(\"sex\",StringType(),True),\n",
    "    StructField(\"salary\",IntegerType(),True)\n",
    "])\n",
    "\n",
    "df = spark.createDataFrame(data=structureData,schema=structSchema)\n",
    "df.select(\"fullname.firstname\",\"fullname.middlename\",\"fullname.lastname\",\"regno\",\"sex\")\\\n",
    "# .show(truncate=False)\n",
    "#df.printSchema()"
   ]
  },
  {
   "cell_type": "code",
   "execution_count": 1,
   "id": "ac070764-9e7e-437a-b314-e8e5b32b3619",
   "metadata": {},
   "outputs": [
    {
     "name": "stderr",
     "output_type": "stream",
     "text": [
      "                                                                                \r"
     ]
    }
   ],
   "source": [
    "# Read and write into parquet file\n",
    "data = [(\"James\", \"Sales\", 3000),\n",
    "    (\"Michael\", \"Sales\", 4600),\n",
    "    (\"Robert\", \"Sales\", 4100),\n",
    "    (\"Maria\", \"Finance\", 3000),\n",
    "    (\"James\", \"Sales\", 3000),\n",
    "    (\"Scott\", \"Finance\", 3300),\n",
    "    (\"Jen\", \"Finance\", 3900),\n",
    "    (\"Jeff\", \"Marketing\", 3000),\n",
    "    (\"Kumar\", \"Marketing\", 2000),\n",
    "    (\"Saif\", \"Sales\", 4100)\n",
    "  ]\n",
    "schema = [\"employee_name\", \"department\", \"salary\"]\n",
    "df = spark.createDataFrame(data=data, schema = schema)\n",
    "'''\n",
    "Write the data into different file formats into HDFS Location\n",
    "'''\n",
    "# df.write.parquet(\"output.parquet\", compression=\"snappy\")\n",
    "# df.write.csv('Files/output.csv')\n",
    "df.write.orc('output.orc')\n",
    "df.write.json('output.json')"
   ]
  },
  {
   "cell_type": "code",
   "execution_count": 33,
   "id": "f5acf115-e493-4e88-9e1f-0789424a99f4",
   "metadata": {},
   "outputs": [
    {
     "name": "stdout",
     "output_type": "stream",
     "text": [
      "+-------------+----------+------+--------+\n",
      "|employee_name|department|salary|Test_Col|\n",
      "+-------------+----------+------+--------+\n",
      "|        James|     Sales|  3000|  510000|\n",
      "|      Michael|     Sales|  4600|  510000|\n",
      "|       Robert|     Sales|  4100|  510000|\n",
      "|        Maria|   Finance|  3000|  510000|\n",
      "+-------------+----------+------+--------+\n",
      "\n"
     ]
    }
   ],
   "source": [
    "# add constant columns into dataframe using lit()\n",
    "from pyspark.sql.functions import lit\n",
    "\n",
    "data = [(\"James\", \"Sales\", 3000),\n",
    "    (\"Michael\", \"Sales\", 4600),\n",
    "    (\"Robert\", \"Sales\", 4100),\n",
    "    (\"Maria\", \"Finance\", 3000)\n",
    "  ]\n",
    "schema = [\"employee_name\", \"department\", \"salary\"]\n",
    "df=spark.createDataFrame(data,schema)\n",
    "df.select(\"employee_name\", \"department\", \"salary\",lit(510000).alias(\"Test_Col\"))\\\n",
    ".show()"
   ]
  },
  {
   "cell_type": "code",
   "execution_count": 34,
   "id": "b47c987c-8942-46b3-bbf2-91f685d44fec",
   "metadata": {},
   "outputs": [
    {
     "ename": "SyntaxError",
     "evalue": "invalid syntax (2335332518.py, line 27)",
     "output_type": "error",
     "traceback": [
      "\u001b[0;36m  Cell \u001b[0;32mIn[34], line 27\u001b[0;36m\u001b[0m\n\u001b[0;31m    ds = df.as[Person]\u001b[0m\n\u001b[0m            ^\u001b[0m\n\u001b[0;31mSyntaxError\u001b[0m\u001b[0;31m:\u001b[0m invalid syntax\n"
     ]
    }
   ],
   "source": [
    "\"\"\"\n",
    "Learn about dataset\n",
    "\"\"\"\n",
    "\n",
    "from pyspark.sql import SparkSession\n",
    "from pyspark.sql import Row\n",
    "\n",
    "# Step 1: Create a Spark session\n",
    "spark = SparkSession.builder.appName(\"DatasetExample\").getOrCreate()\n",
    "\n",
    "# Step 2: Define a case class (or schema) to represent the data\n",
    "class Person:\n",
    "    def __init__(self, name, age):\n",
    "        self.name = name\n",
    "        self.age = age\n",
    "\n",
    "# Step 3: Create a sequence of data\n",
    "data = [Person(\"Alice\", 25), Person(\"Bob\", 30), Person(\"Charlie\", 22)]\n",
    "\n",
    "# Step 4: Convert the data to RDD of Rows\n",
    "rdd = spark.sparkContext.parallelize(data).map(lambda x: Row(name=x.name, age=x.age))\n",
    "\n",
    "# Step 5: Create a DataFrame from the RDD\n",
    "df = spark.createDataFrame(rdd)\n",
    "\n",
    "# Step 6: Convert the DataFrame to a Dataset using as operator\n",
    "ds = df.as[Person]\n",
    "\n",
    "# Step 7: Show the content of the Dataset\n",
    "ds.show()"
   ]
  },
  {
   "cell_type": "code",
   "execution_count": 36,
   "id": "0ad152d0-1b75-4323-9551-0b52700850dc",
   "metadata": {},
   "outputs": [],
   "source": [
    "\"\"\"\n",
    "what will happen if you insert wrong data into defined schema ?\n",
    "\"\"\"\n",
    "from pyspark.sql.types import *\n",
    "\n",
    "data = [(\"James\", \"Sales\", 3000),\n",
    "    (\"Michael\", \"Sales\", 4600),\n",
    "    (\"Robert\", \"Sales\", 4100),\n",
    "    (\"Maria\", \"Finance\", 3000),\n",
    "    (\"James\", \"Sales\", 1000)\n",
    "  ]\n",
    "schema =StructType([\n",
    "    StructField(\"employee_name\",StringType(),True),\n",
    "    StructField(\"department\",StringType(),True),\n",
    "    StructField(\"salary\",IntegerType(),False),\n",
    "\n",
    "])\n",
    "df = spark.createDataFrame(data=data, schema = schema)\n",
    "# df.show()"
   ]
  },
  {
   "cell_type": "code",
   "execution_count": 31,
   "id": "76459cdb-9503-45e7-a5ad-7bf40436554d",
   "metadata": {},
   "outputs": [],
   "source": [
    "\"\"\"\n",
    "word count program\n",
    "\"\"\"\n",
    "# from pyspark.sql.functions import split\n",
    "sentences=[(\"Remember to handle credentials securely and be cautious about handling sensitive information like usernames and passwords\",)]\n",
    "df=spark.createDataFrame(sentences,['sentence'])\n",
    "words=(\n",
    "df.selectExpr(\"split(sentence,' ') as words\")\\\n",
    "  .selectExpr(\"explode(words) as word\") \\\n",
    "  .groupBy(\"word\").count()\n",
    ")\n",
    "# df=df.split(' ')\n",
    "# words.show(truncate=False)\n",
    "# print(df)"
   ]
  },
  {
   "cell_type": "code",
   "execution_count": 40,
   "id": "82129f25-ed12-4a3a-a7c4-ef896be9d243",
   "metadata": {},
   "outputs": [
    {
     "data": {
      "text/plain": [
       "PythonRDD[380] at RDD at PythonRDD.scala:53"
      ]
     },
     "execution_count": 40,
     "metadata": {},
     "output_type": "execute_result"
    }
   ],
   "source": [
    "# word count using RDD\n",
    "sentences=[\"Remember to handle credentials securely and be cautious about handling sensitive information like usernames and passwords\"]\n",
    "rdd=sc.parallelize(sentences)\n",
    "rdd.flatMap(lambda line:line.split(\" \"))\\\n",
    ".map(lambda word:(word,1))\\\n",
    ".reduceByKey(lambda curr,nxt:curr+nxt)\\\n",
    ".sortBy(lambda word:word[0])\\\n",
    "# .collect()\n",
    "# print(rdd)"
   ]
  },
  {
   "cell_type": "code",
   "execution_count": 45,
   "id": "ff877222-81ff-4335-babb-e315aeda4c55",
   "metadata": {},
   "outputs": [
    {
     "data": {
      "text/plain": [
       "PythonRDD[390] at RDD at PythonRDD.scala:53"
      ]
     },
     "execution_count": 45,
     "metadata": {},
     "output_type": "execute_result"
    }
   ],
   "source": [
    "sentences=[\"Remember to handle\",\"credentials securely and be cautious\",\"about handling sensitive information like usernames and passwords\"]\n",
    "rdd=sc.parallelize(sentences)\n",
    "rdd.map(lambda word:word.split(\" \"))\\\n",
    ".flatMap(lambda w:w)\\\n",
    "# .collect()"
   ]
  },
  {
   "cell_type": "code",
   "execution_count": 43,
   "id": "027df95d-7b1e-40aa-ac80-5bcc33887a07",
   "metadata": {},
   "outputs": [],
   "source": [
    "# Learning about format()\n",
    "# df=spark.read.format('csv').option('header',True).load('file:///home/tony/BigData/food_establishment_data.csv')\n",
    "df=spark.read.option('header',True).csv('file:///home/tony/BigData/food_establishment_data.csv')\n",
    "df.write.option('header',True).parquet('file:///home/tony/BigData/food_establishment_data.parquet')"
   ]
  },
  {
   "cell_type": "code",
   "execution_count": 13,
   "id": "2d86c4cb-39a4-4af2-8969-e657a9b85317",
   "metadata": {},
   "outputs": [
    {
     "name": "stderr",
     "output_type": "stream",
     "text": [
      "                                                                                \r"
     ]
    },
    {
     "data": {
      "text/plain": [
       "266351"
      ]
     },
     "execution_count": 13,
     "metadata": {},
     "output_type": "execute_result"
    }
   ],
   "source": [
    "# Read parquet files count- 266351\n",
    "df=spark.read.option(\"startingFrom\",10)\\\n",
    ".option('header',True)\\\n",
    ".parquet('file:///home/tony/BigData/food_establishment_data.parquet')\n",
    "df.count()"
   ]
  },
  {
   "cell_type": "code",
   "execution_count": 32,
   "id": "673729ec-d078-457b-b206-391987b19923",
   "metadata": {},
   "outputs": [],
   "source": [
    "# Working with JSON Files\n",
    "# df=spark.read.json('file:///home/tony/BigData/Files/data.json')\n",
    "# rdd=sc.textFile('/home/tony/BigData/Files/data.json')\n",
    "\n",
    "import pandas as pd\n",
    "# df2=pd.DataFrame(eval('/home/tony/BigData/Files/data.json'))\n",
    "data=pd.read_json('/home/tony/BigData/Files/data.json',orient='records')\n",
    "df2=spark.createDataFrame(data)\n",
    "# df2.show()"
   ]
  },
  {
   "cell_type": "code",
   "execution_count": 23,
   "id": "82f9f7af-371b-4ff1-993c-83847f7ec20e",
   "metadata": {},
   "outputs": [
    {
     "name": "stdout",
     "output_type": "stream",
     "text": [
      "root\n",
      "\n"
     ]
    }
   ],
   "source": [
    "df = spark.read.option(\"mode\", \"DROPMALFORMED\").json(\"file:///home/tony/BigData/Files/data10.json\")\n",
    "df.printSchema()"
   ]
  },
  {
   "cell_type": "code",
   "execution_count": 16,
   "id": "095d33bc-d00c-44b1-94d2-766ecffce6af",
   "metadata": {},
   "outputs": [
    {
     "name": "stderr",
     "output_type": "stream",
     "text": [
      "                                                                                \r"
     ]
    },
    {
     "data": {
      "text/plain": [
       "[Row(user_names='James', hair_color='black', eye='brown'),\n",
       " Row(user_names='Michael', hair_color='brown', eye=None),\n",
       " Row(user_names='Robert', hair_color='red', eye='black'),\n",
       " Row(user_names='Washington', hair_color='grey', eye='grey'),\n",
       " Row(user_names='Jefferson', hair_color='brown', eye='')]"
      ]
     },
     "execution_count": 16,
     "metadata": {},
     "output_type": "execute_result"
    }
   ],
   "source": [
    "# Working with mapType\n",
    "from pyspark.sql.types import StructType,StructField,StringType,MapType\n",
    "schema=StructType([\n",
    "    StructField(\"user_names\",StringType(),True),\n",
    "    StructField(\"taste\",MapType(StringType(),StringType()),True)\n",
    "])\n",
    "\n",
    "dataDictionary = [\n",
    "    ('James',{'hair':'black','eye':'brown'}),\n",
    "    ('Michael',{'hair':'brown','eye':None}),\n",
    "    ('Robert',{'hair':'red','eye':'black'}),\n",
    "    ('Washington',{'hair':'grey','eye':'grey'}),\n",
    "    ('Jefferson',{'hair':'brown','eye':''})\n",
    "]\n",
    "df = spark.createDataFrame(data=dataDictionary, schema = schema)\n",
    "# df.printSchema()\n",
    "df.select(\"user_names\",df.taste['hair'].alias(\"hair_color\"),df.taste['eye'].alias(\"eye\"))\\\n",
    ".collect()\n",
    "# .show()\n",
    "# .explain()\n",
    "# .show(truncate=False)\n"
   ]
  },
  {
   "cell_type": "code",
   "execution_count": 1,
   "id": "45f6b6f4-6973-4030-94a2-31a4e7898961",
   "metadata": {},
   "outputs": [],
   "source": [
    "# connect to mysql using jdbc and read and display all of the tables data\n",
    "\n",
    "jdbc_url='jdbc:mysql://localhost:3306/employees_db'\n",
    "username='root'\n",
    "password='7730061615'\n",
    "dbtable='employee'\n",
    "\n",
    "df=spark.read.format('jdbc')\\\n",
    ".option('url',jdbc_url)\\\n",
    ".option('user',username)\\\n",
    ".option('password',password)\\\n",
    ".option('dbtable',dbtable)\\\n",
    "# .load()\n"
   ]
  },
  {
   "cell_type": "code",
   "execution_count": 10,
   "id": "a7b888d5-62af-43ff-b29d-f44d5b2aeea0",
   "metadata": {},
   "outputs": [
    {
     "name": "stdout",
     "output_type": "stream",
     "text": [
      "<generator object <genexpr> at 0x7f4a4c179310>\n"
     ]
    }
   ],
   "source": [
    "my_gen_obj=(num for num in range(5))\n",
    "print(my_gen_obj)"
   ]
  },
  {
   "cell_type": "code",
   "execution_count": null,
   "id": "ec64d87a-a2d2-4e7a-a588-e7f6f6dd2cba",
   "metadata": {},
   "outputs": [],
   "source": []
  }
 ],
 "metadata": {
  "kernelspec": {
   "display_name": "Python 3 (ipykernel)",
   "language": "python",
   "name": "python3"
  },
  "language_info": {
   "codemirror_mode": {
    "name": "ipython",
    "version": 3
   },
   "file_extension": ".py",
   "mimetype": "text/x-python",
   "name": "python",
   "nbconvert_exporter": "python",
   "pygments_lexer": "ipython3",
   "version": "3.10.12"
  }
 },
 "nbformat": 4,
 "nbformat_minor": 5
}
