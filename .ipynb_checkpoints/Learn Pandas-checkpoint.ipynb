{
 "cells": [
  {
   "cell_type": "code",
   "execution_count": 15,
   "id": "40cd167a-40af-4281-8ef8-49031103b3a4",
   "metadata": {},
   "outputs": [
    {
     "name": "stdout",
     "output_type": "stream",
     "text": [
      "    cars  passings\n",
      "0    BMW         3\n",
      "1  Volvo         7\n",
      "2   Ford         2\n",
      "cars        BMW\n",
      "passings      3\n",
      "Name: 0, dtype: object\n"
     ]
    }
   ],
   "source": [
    "# Task : Display table from JSON Object\n",
    "import pandas as pd\n",
    "mydataset = {\n",
    "  'cars': [\"BMW\", \"Volvo\", \"Ford\"],\n",
    "  'passings': [3, 7, 2]\n",
    "}\n",
    "result_set=pd.DataFrame(mydataset)\n",
    "# result_set=pd.Series(mydataset)\n",
    "print(result_set)\n",
    "print(result_set.loc[0])"
   ]
  },
  {
   "cell_type": "code",
   "execution_count": 6,
   "id": "2574f341-1bba-49fe-9207-aabc482b9df2",
   "metadata": {},
   "outputs": [
    {
     "name": "stdout",
     "output_type": "stream",
     "text": [
      "0    1\n",
      "1    7\n",
      "2    2\n",
      "dtype: int64\n"
     ]
    }
   ],
   "source": [
    "# Series\n",
    "\n",
    "a = [1, 7, 2]\n",
    "result=pd.Series(a)\n",
    "print(result)"
   ]
  },
  {
   "cell_type": "code",
   "execution_count": 20,
   "id": "f85739c4-dd4e-4532-aa01-85de170ba3de",
   "metadata": {},
   "outputs": [
    {
     "name": "stdout",
     "output_type": "stream",
     "text": [
      "       cars  passings\n",
      "day1    BMW         3\n",
      "day2  Volvo         7\n",
      "day3   Ford         2\n",
      "\n",
      " cars        BMW\n",
      "passings      3\n",
      "Name: day1, dtype: object\n"
     ]
    }
   ],
   "source": [
    "# Create indexes for DataFrame\n",
    "import pandas as pd\n",
    "mydataset = {\n",
    "  'cars': [\"BMW\", \"Volvo\", \"Ford\"],\n",
    "  'passings': [3, 7, 2]\n",
    "}\n",
    "indexes=[\"day1\",\"day2\",\"day3\"]\n",
    "result_set=pd.DataFrame(mydataset,index=indexes)\n",
    "print(result_set)\n",
    "print(f'\\n {result_set.loc[\"day1\"]}')"
   ]
  },
  {
   "cell_type": "code",
   "execution_count": null,
   "id": "3348b66b-6959-4393-874a-975a91e1c3bf",
   "metadata": {},
   "outputs": [],
   "source": [
    "# Read Data from csv file into dataframe\n"
   ]
  }
 ],
 "metadata": {
  "kernelspec": {
   "display_name": "Python 3 (ipykernel)",
   "language": "python",
   "name": "python3"
  },
  "language_info": {
   "codemirror_mode": {
    "name": "ipython",
    "version": 3
   },
   "file_extension": ".py",
   "mimetype": "text/x-python",
   "name": "python",
   "nbconvert_exporter": "python",
   "pygments_lexer": "ipython3",
   "version": "3.10.12"
  }
 },
 "nbformat": 4,
 "nbformat_minor": 5
}
