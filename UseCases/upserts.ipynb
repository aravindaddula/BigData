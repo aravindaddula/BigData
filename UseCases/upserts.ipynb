{
 "cells": [
  {
   "cell_type": "code",
   "execution_count": 1,
   "id": "9bdae9c0",
   "metadata": {},
   "outputs": [
    {
     "name": "stdout",
     "output_type": "stream",
     "text": [
      ":: loading settings :: url = jar:file:/home/jarvis/.venv/lib/python3.12/site-packages/pyspark/jars/ivy-2.5.1.jar!/org/apache/ivy/core/settings/ivysettings.xml\n"
     ]
    },
    {
     "name": "stderr",
     "output_type": "stream",
     "text": [
      "Ivy Default Cache set to: /home/jarvis/.ivy2/cache\n",
      "The jars for the packages stored in: /home/jarvis/.ivy2/jars\n",
      "io.delta#delta-core_2.12 added as a dependency\n",
      ":: resolving dependencies :: org.apache.spark#spark-submit-parent-fd9bb074-2dae-4422-aec8-77720cc8a332;1.0\n",
      "\tconfs: [default]\n",
      "\tfound io.delta#delta-core_2.12;2.4.0 in central\n",
      "\tfound io.delta#delta-storage;2.4.0 in central\n",
      "\tfound org.antlr#antlr4-runtime;4.9.3 in central\n",
      ":: resolution report :: resolve 200ms :: artifacts dl 7ms\n",
      "\t:: modules in use:\n",
      "\tio.delta#delta-core_2.12;2.4.0 from central in [default]\n",
      "\tio.delta#delta-storage;2.4.0 from central in [default]\n",
      "\torg.antlr#antlr4-runtime;4.9.3 from central in [default]\n",
      "\t---------------------------------------------------------------------\n",
      "\t|                  |            modules            ||   artifacts   |\n",
      "\t|       conf       | number| search|dwnlded|evicted|| number|dwnlded|\n",
      "\t---------------------------------------------------------------------\n",
      "\t|      default     |   3   |   0   |   0   |   0   ||   3   |   0   |\n",
      "\t---------------------------------------------------------------------\n",
      ":: retrieving :: org.apache.spark#spark-submit-parent-fd9bb074-2dae-4422-aec8-77720cc8a332\n",
      "\tconfs: [default]\n",
      "\t0 artifacts copied, 3 already retrieved (0kB/8ms)\n",
      "25/06/14 23:43:42 WARN NativeCodeLoader: Unable to load native-hadoop library for your platform... using builtin-java classes where applicable\n",
      "Setting default log level to \"WARN\".\n",
      "To adjust logging level use sc.setLogLevel(newLevel). For SparkR, use setLogLevel(newLevel).\n",
      "25/06/14 23:43:43 WARN Utils: Service 'SparkUI' could not bind on port 4040. Attempting port 4041.\n"
     ]
    },
    {
     "name": "stdout",
     "output_type": "stream",
     "text": [
      "spark session created <pyspark.sql.session.SparkSession object at 0x7b263f5f38c0> at 2025-06-14 23:43:44.614718\n"
     ]
    }
   ],
   "source": [
    "from pyspark.sql import SparkSession\n",
    "import datetime,os\n",
    "        # .config(\"spark.driver.port\",\"4040\") \\\n",
    "        # .config(\"spark.blockManager.port\",\"4041\") \\\n",
    "spark =  SparkSession.builder \\\n",
    "        .appName(\"Upserts Operation\")\\\n",
    "        .master(\"local[*]\") \\\n",
    "        .config(\"spark.sql.execution.arrow.pyspark.enabled\", \"true\") \\\n",
    "        .config(\"spark.driver.bindAddress\",\"127.0.0.1\") \\\n",
    "        .config(\"spark.executor.memory\",\"4g\") \\\n",
    "        .config(\"spark.driver.memory\",\"8g\") \\\n",
    "        .config(\"spark.sql.extensions\", \"io.delta.sql.DeltaSparkSessionExtension\") \\\n",
    "        .config(\"spark.jars.packages\", \"io.delta:delta-core_2.12:2.4.0\") \\\n",
    "        .config(\"spark.sql.catalog.spark_catalog\", \"org.apache.spark.sql.delta.catalog.DeltaCatalog\") \\\n",
    "        .getOrCreate()\n",
    "# spark.sparkContext.setLogLevel(\"ERROR\")\n",
    "spark.sparkContext.setLogLevel(\"WARN\")\n",
    "\n",
    "\n",
    "print(f'spark session created {spark} at {datetime.datetime.now()}')\n",
    "\n",
    "# print(jars)\n",
    "# spark.stop()"
   ]
  },
  {
   "cell_type": "code",
   "execution_count": 16,
   "id": "e4737bb9",
   "metadata": {},
   "outputs": [
    {
     "name": "stderr",
     "output_type": "stream",
     "text": [
      "25/06/12 08:24:21 WARN SQLConf: The SQL config 'spark.sql.execution.arrow.enabled' has been deprecated in Spark v3.0 and may be removed in the future. Use 'spark.sql.execution.arrow.pyspark.enabled' instead of it.\n",
      "[Stage 38:===================================>                    (32 + 8) / 50]\r"
     ]
    },
    {
     "name": "stdout",
     "output_type": "stream",
     "text": [
      "Write success\n"
     ]
    },
    {
     "name": "stderr",
     "output_type": "stream",
     "text": [
      "                                                                                \r"
     ]
    }
   ],
   "source": [
    "from pyspark.sql.functions import current_timestamp,lit\n",
    "from delta.tables import DeltaTable\n",
    "\n",
    "read_options={\n",
    "    \"header\":True,\n",
    "    \"inferSchema\":True\n",
    "}\n",
    "'''Read from source csv file'''\n",
    "customer_master_src = spark.read.options(**read_options).csv('../datasets/customer_master.csv')\n",
    "customer_master_src = customer_master_src.withColumn(\"created_at\",current_timestamp())\\\n",
    "                .withColumn(\"updated_at\",current_timestamp())\\\n",
    "                .withColumn(\"current_flag\",lit(\"Y\"))\n",
    "                \n",
    "# customer_master_src.show(truncate=False)\n",
    "'''Write csv into deltalake'''\n",
    "try:\n",
    "    customer_master_src.coalesce(1).write.format(\"delta\").mode(\"overwrite\").save(\"../DeltaLake/customer_master\")\n",
    "    print(\"Write success\")\n",
    "except Exception as e:\n",
    "    print(f\"Write failed : {e}\")"
   ]
  },
  {
   "cell_type": "code",
   "execution_count": null,
   "id": "338a4cd3",
   "metadata": {},
   "outputs": [
    {
     "name": "stderr",
     "output_type": "stream",
     "text": [
      "                                                                                \r"
     ]
    },
    {
     "name": "stdout",
     "output_type": "stream",
     "text": [
      "+-----------+----------+--------------------+------------+----------+--------------------+--------------------+------------+\n",
      "|customer_id| full_name|               email|     address|     phone|          created_at|          updated_at|current_flag|\n",
      "+-----------+----------+--------------------+------------+----------+--------------------+--------------------+------------+\n",
      "|          1|  John Doe|john.doe@example.com|123 Maple St|1234567890|2025-06-12 08:24:...|2025-06-12 08:31:...|           Y|\n",
      "|          2|Jane Smith|jane.smith@exampl...| 456 Oak Ave|9876543210|2025-06-12 08:24:...|2025-06-12 08:31:...|           Y|\n",
      "|          3| David Lee|david.lee@example...| 789 Pine Rd|6300500200|2025-06-12 08:24:...|2025-06-12 08:31:...|           Y|\n",
      "|          4|Harvey Lee|davidson.lee@exam...| 700 Pine Rd|7730061615|2025-06-12 08:24:...|2025-06-12 08:31:...|           Y|\n",
      "+-----------+----------+--------------------+------------+----------+--------------------+--------------------+------------+\n",
      "\n"
     ]
    }
   ],
   "source": [
    "\n",
    "# Load target as DeltaTable\n",
    "delta_target = DeltaTable.forPath(spark, \"../DeltaLake/customer_master\")\n",
    "\n",
    "'''Perform Merge/Upsert Operation'''\n",
    "delta_target.alias(\"tgt\").merge(\n",
    "    customer_master_src.alias(\"src\"), \"tgt.customer_id == src.customer_id\"\n",
    ").whenMatchedUpdate(set={\n",
    "    'full_name':'src.full_name',\n",
    "    'email': 'src.email',\n",
    "    'address':'src.address',\n",
    "    'phone':'src.phone',\n",
    "    'updated_at':current_timestamp(),\n",
    "    'current_flag':\"'Y'\"\n",
    "}).whenNotMatchedInsert(values={\n",
    "    'customer_id':'src.customer_id',\n",
    "    'full_name':'src.full_name',\n",
    "    'email': 'src.email',\n",
    "    'address':'src.address',\n",
    "    'phone':'src.phone',\n",
    "    'created_at':'src.created_at',\n",
    "    'updated_at':current_timestamp(),\n",
    "    'current_flag':\"'Y'\"\n",
    "}).execute()\n",
    "\n",
    "tgt=spark.read.format(\"delta\").load(\"../DeltaLake/customer_master\")\n",
    "tgt.show(truncate=False)\n"
   ]
  },
  {
   "cell_type": "code",
   "execution_count": null,
   "id": "8a6c3799",
   "metadata": {},
   "outputs": [],
   "source": [
    "'''Perform SCD Type 2 on it'''\n",
    "\n"
   ]
  },
  {
   "cell_type": "code",
   "execution_count": null,
   "id": "3b46e86d",
   "metadata": {},
   "outputs": [],
   "source": [
    "# Time Travel (Query Past Versions)\n",
    "\n",
    "df_old = spark.read.format(\"delta\").option(\"versionAsOf\", 0).load(\"delta_tables/customer\")\n",
    "df_old.show()"
   ]
  },
  {
   "cell_type": "code",
   "execution_count": null,
   "id": "83a792e8",
   "metadata": {},
   "outputs": [],
   "source": [
    " Schema Enforcement and Evolution\n",
    "\n",
    "    Enforcement: Will error out if new data doesn’t match schema.\n",
    "\n",
    "    Evolution: You can enable schema evolution when appending.\n",
    "\n",
    "df_new.write.format(\"delta\") \\\n",
    "    .option(\"mergeSchema\", \"true\") \\\n",
    "    .mode(\"append\").save(\"delta_tables/customer\")"
   ]
  },
  {
   "cell_type": "code",
   "execution_count": 2,
   "id": "7f95fc8e",
   "metadata": {},
   "outputs": [
    {
     "name": "stderr",
     "output_type": "stream",
     "text": [
      "25/06/14 23:44:05 WARN SparkStringUtils: Truncated the string representation of a plan since it was too large. This behavior can be adjusted by setting 'spark.sql.debug.maxToStringFields'.\n",
      "                                                                                \r"
     ]
    },
    {
     "name": "stdout",
     "output_type": "stream",
     "text": [
      "+-------------------+-----------------------+\n",
      "|message            |batch_time             |\n",
      "+-------------------+-----------------------+\n",
      "|Current Number is 0|2025-06-14 23:31:11.351|\n",
      "|Current Number is 1|2025-06-14 23:31:11.351|\n",
      "|Current Number is 2|2025-06-14 23:31:11.351|\n",
      "|Current Number is 3|2025-06-14 23:31:11.351|\n",
      "|Current Number is 4|2025-06-14 23:31:11.351|\n",
      "|Current Number is 5|2025-06-14 23:31:11.351|\n",
      "|Current Number is 6|2025-06-14 23:31:11.351|\n",
      "|Current Number is 7|2025-06-14 23:31:11.351|\n",
      "|Current Number is 8|2025-06-14 23:31:11.351|\n",
      "|Current Number is 9|2025-06-14 23:31:11.351|\n",
      "|Current Number is 0|2025-06-14 23:30:09.1  |\n",
      "|Current Number is 1|2025-06-14 23:30:09.1  |\n",
      "|Current Number is 2|2025-06-14 23:30:09.1  |\n",
      "|Current Number is 3|2025-06-14 23:30:09.1  |\n",
      "|Current Number is 4|2025-06-14 23:30:09.1  |\n",
      "|Current Number is 5|2025-06-14 23:30:09.1  |\n",
      "|Current Number is 6|2025-06-14 23:30:09.1  |\n",
      "|Current Number is 7|2025-06-14 23:30:09.1  |\n",
      "|Current Number is 8|2025-06-14 23:30:09.1  |\n",
      "|Current Number is 9|2025-06-14 23:30:09.1  |\n",
      "+-------------------+-----------------------+\n",
      "only showing top 20 rows\n",
      "\n"
     ]
    }
   ],
   "source": [
    "tgt=spark.read.format(\"delta\").load(\"../DeltaLake/numbers\")\n",
    "tgt.show(truncate=False)"
   ]
  }
 ],
 "metadata": {
  "kernelspec": {
   "display_name": ".venv",
   "language": "python",
   "name": "python3"
  },
  "language_info": {
   "codemirror_mode": {
    "name": "ipython",
    "version": 3
   },
   "file_extension": ".py",
   "mimetype": "text/x-python",
   "name": "python",
   "nbconvert_exporter": "python",
   "pygments_lexer": "ipython3",
   "version": "3.12.3"
  }
 },
 "nbformat": 4,
 "nbformat_minor": 5
}
