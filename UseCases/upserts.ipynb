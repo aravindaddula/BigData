{
 "cells": [
  {
   "cell_type": "code",
   "execution_count": null,
   "id": "0bf08a81",
   "metadata": {},
   "outputs": [],
   "source": []
  },
  {
   "cell_type": "code",
   "execution_count": 6,
   "id": "9bdae9c0",
   "metadata": {},
   "outputs": [
    {
     "name": "stdout",
     "output_type": "stream",
     "text": [
      "spark session created <pyspark.sql.session.SparkSession object at 0x76b9d02882c0> at 2025-06-12 07:42:08.659417\n"
     ]
    }
   ],
   "source": [
    "from pyspark.sql import SparkSession\n",
    "import datetime,os\n",
    "        # .config(\"spark.driver.port\",\"4040\") \\\n",
    "        # .config(\"spark.blockManager.port\",\"4041\") \\\n",
    "spark =  SparkSession.builder \\\n",
    "        .appName(\"Upserts Operation\")\\\n",
    "        .master(\"local[*]\") \\\n",
    "        .config(\"spark.sql.execution.arrow.pyspark.enabled\", \"true\") \\\n",
    "        .config(\"spark.driver.bindAddress\",\"127.0.0.1\") \\\n",
    "        .config(\"spark.executor.memory\",\"4g\") \\\n",
    "        .config(\"spark.driver.memory\",\"8g\") \\\n",
    "        .config(\"spark.sql.extensions\", \"io.delta.sql.DeltaSparkSessionExtension\") \\\n",
    "        .config(\"spark.jars.packages\", \"io.delta:delta-core_2.12:2.4.0\") \\\n",
    "        .config(\"spark.sql.catalog.spark_catalog\", \"org.apache.spark.sql.delta.catalog.DeltaCatalog\") \\\n",
    "        .getOrCreate()\n",
    "# spark.sparkContext.setLogLevel(\"ERROR\")\n",
    "spark.sparkContext.setLogLevel(\"WARN\")\n",
    "\n",
    "\n",
    "print(f'spark session created {spark} at {datetime.datetime.now()}')\n",
    "\n",
    "# print(jars)\n",
    "# spark.stop()"
   ]
  },
  {
   "cell_type": "code",
   "execution_count": 16,
   "id": "e4737bb9",
   "metadata": {},
   "outputs": [
    {
     "name": "stderr",
     "output_type": "stream",
     "text": [
      "25/06/12 08:24:21 WARN SQLConf: The SQL config 'spark.sql.execution.arrow.enabled' has been deprecated in Spark v3.0 and may be removed in the future. Use 'spark.sql.execution.arrow.pyspark.enabled' instead of it.\n",
      "[Stage 38:===================================>                    (32 + 8) / 50]\r"
     ]
    },
    {
     "name": "stdout",
     "output_type": "stream",
     "text": [
      "Write success\n"
     ]
    },
    {
     "name": "stderr",
     "output_type": "stream",
     "text": [
      "                                                                                \r"
     ]
    }
   ],
   "source": [
    "from pyspark.sql.functions import current_timestamp,lit\n",
    "from delta.tables import DeltaTable\n",
    "\n",
    "read_options={\n",
    "    \"header\":True,\n",
    "    \"inferSchema\":True\n",
    "}\n",
    "'''Read from source csv file'''\n",
    "customer_master_src = spark.read.options(**read_options).csv('../datasets/customer_master.csv')\n",
    "customer_master_src = customer_master_src.withColumn(\"created_at\",current_timestamp())\\\n",
    "                .withColumn(\"updated_at\",current_timestamp())\\\n",
    "                .withColumn(\"current_flag\",lit(\"Y\"))\n",
    "                \n",
    "# customer_master_src.show(truncate=False)\n",
    "'''Write csv into deltalake'''\n",
    "try:\n",
    "    customer_master_src.coalesce(1).write.format(\"delta\").mode(\"overwrite\").save(\"../DeltaLake/customer_master\")\n",
    "    print(\"Write success\")\n",
    "except Exception as e:\n",
    "    print(f\"Write failed : {e}\")"
   ]
  },
  {
   "cell_type": "code",
   "execution_count": null,
   "id": "338a4cd3",
   "metadata": {},
   "outputs": [
    {
     "name": "stderr",
     "output_type": "stream",
     "text": [
      "                                                                                \r"
     ]
    },
    {
     "name": "stdout",
     "output_type": "stream",
     "text": [
      "+-----------+----------+--------------------+------------+----------+--------------------+--------------------+------------+\n",
      "|customer_id| full_name|               email|     address|     phone|          created_at|          updated_at|current_flag|\n",
      "+-----------+----------+--------------------+------------+----------+--------------------+--------------------+------------+\n",
      "|          1|  John Doe|john.doe@example.com|123 Maple St|1234567890|2025-06-12 08:24:...|2025-06-12 08:31:...|           Y|\n",
      "|          2|Jane Smith|jane.smith@exampl...| 456 Oak Ave|9876543210|2025-06-12 08:24:...|2025-06-12 08:31:...|           Y|\n",
      "|          3| David Lee|david.lee@example...| 789 Pine Rd|6300500200|2025-06-12 08:24:...|2025-06-12 08:31:...|           Y|\n",
      "|          4|Harvey Lee|davidson.lee@exam...| 700 Pine Rd|7730061615|2025-06-12 08:24:...|2025-06-12 08:31:...|           Y|\n",
      "+-----------+----------+--------------------+------------+----------+--------------------+--------------------+------------+\n",
      "\n"
     ]
    }
   ],
   "source": [
    "\n",
    "# Load target as DeltaTable\n",
    "delta_target = DeltaTable.forPath(spark, \"../DeltaLake/customer_master\")\n",
    "\n",
    "'''Perform Merge Operation'''\n",
    "delta_target.alias(\"tgt\").merge(\n",
    "    customer_master_src.alias(\"src\"), \"tgt.customer_id == src.customer_id\"\n",
    ").whenMatchedUpdate(set={\n",
    "    'full_name':'src.full_name',\n",
    "    'email': 'src.email',\n",
    "    'address':'src.address',\n",
    "    'phone':'src.phone',\n",
    "    'updated_at':current_timestamp(),\n",
    "    'current_flag':\"'Y'\"\n",
    "}).whenNotMatchedInsert(values={\n",
    "    'customer_id':'src.customer_id',\n",
    "    'full_name':'src.full_name',\n",
    "    'email': 'src.email',\n",
    "    'address':'src.address',\n",
    "    'phone':'src.phone',\n",
    "    'created_at':'src.created_at',\n",
    "    'updated_at':current_timestamp(),\n",
    "    'current_flag':\"'Y'\"\n",
    "}).execute()\n",
    "\n",
    "tgt=spark.read.format(\"delta\").load(\"../DeltaLake/customer_master\")\n",
    "tgt.show(truncate=False)\n"
   ]
  },
  {
   "cell_type": "code",
   "execution_count": null,
   "id": "8a6c3799",
   "metadata": {},
   "outputs": [],
   "source": [
    "'''Perform SCD Type 2 on it'''\n",
    "\n"
   ]
  },
  {
   "cell_type": "code",
   "execution_count": null,
   "id": "3b46e86d",
   "metadata": {},
   "outputs": [],
   "source": [
    "# Time Travel (Query Past Versions)\n",
    "\n",
    "df_old = spark.read.format(\"delta\").option(\"versionAsOf\", 0).load(\"delta_tables/customer\")\n",
    "df_old.show()"
   ]
  },
  {
   "cell_type": "code",
   "execution_count": null,
   "id": "83a792e8",
   "metadata": {},
   "outputs": [],
   "source": [
    " Schema Enforcement and Evolution\n",
    "\n",
    "    Enforcement: Will error out if new data doesn’t match schema.\n",
    "\n",
    "    Evolution: You can enable schema evolution when appending.\n",
    "\n",
    "df_new.write.format(\"delta\") \\\n",
    "    .option(\"mergeSchema\", \"true\") \\\n",
    "    .mode(\"append\").save(\"delta_tables/customer\")"
   ]
  }
 ],
 "metadata": {
  "kernelspec": {
   "display_name": ".venv",
   "language": "python",
   "name": "python3"
  },
  "language_info": {
   "codemirror_mode": {
    "name": "ipython",
    "version": 3
   },
   "file_extension": ".py",
   "mimetype": "text/x-python",
   "name": "python",
   "nbconvert_exporter": "python",
   "pygments_lexer": "ipython3",
   "version": "3.12.3"
  }
 },
 "nbformat": 4,
 "nbformat_minor": 5
}
